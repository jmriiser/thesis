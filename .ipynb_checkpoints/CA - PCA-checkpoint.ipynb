{
 "cells": [
  {
   "cell_type": "code",
   "execution_count": 1,
   "metadata": {},
   "outputs": [],
   "source": [
    "import pandas as pd\n",
    "import numpy as np\n",
    "import seaborn as sns\n",
    "import matplotlib.pyplot as plt\n",
    "from utils import *"
   ]
  },
  {
   "cell_type": "markdown",
   "metadata": {},
   "source": [
    "### Problem definition\n",
    "Perform PCA on data set to reduce dimensionality, and perform K-Means Clustering to see if the clustering segregates the data into CA diagnosed and non diagnosed."
   ]
  },
  {
   "cell_type": "markdown",
   "metadata": {},
   "source": [
    "# Principal Component Analysis"
   ]
  },
  {
   "cell_type": "code",
   "execution_count": 2,
   "metadata": {},
   "outputs": [],
   "source": [
    "from sklearn.decomposition import PCA\n",
    "from sklearn.manifold import TSNE\n",
    "from sklearn.experimental import enable_iterative_imputer\n",
    "from sklearn.impute import SimpleImputer, IterativeImputer, KNNImputer\n",
    "from sklearn.model_selection import train_test_split\n",
    "from sklearn.model_selection import StratifiedShuffleSplit\n",
    "from sklearn.preprocessing import StandardScaler, PowerTransformer, QuantileTransformer, MaxAbsScaler, RobustScaler\n",
    "from sklearn import metrics\n",
    "\n",
    "from sklearn.cluster import KMeans"
   ]
  },
  {
   "cell_type": "code",
   "execution_count": 3,
   "metadata": {},
   "outputs": [],
   "source": [
    "#final_df = get_lapp(red_flags+medical_history)\n",
    "#final_df['PHDIAGCD'] = final_df['PHDIAGCD'].fillna(0) "
   ]
  },
  {
   "cell_type": "code",
   "execution_count": 4,
   "metadata": {},
   "outputs": [],
   "source": [
    "final_df = get_lapp(red_flags+medical_history)\n",
    "#final_df['PHDIAGCD'] = final_df['PHDIAGCD'].fillna(0) \n",
    "final_df = final_df[final_df['PHDIAGCD'].notna()]"
   ]
  },
  {
   "cell_type": "code",
   "execution_count": 5,
   "metadata": {},
   "outputs": [],
   "source": [
    "final_df['K/L Ratio'] = final_df['HEKAPRE'] / final_df['HELAMRE']\n",
    "final_df = final_df.drop(columns=['HEKAPRE', 'HELAMRE'])"
   ]
  },
  {
   "cell_type": "code",
   "execution_count": 6,
   "metadata": {},
   "outputs": [],
   "source": [
    "# One-hot encode\n",
    "final_df = pd.get_dummies(final_df, columns=ohe_data)"
   ]
  },
  {
   "cell_type": "code",
   "execution_count": 7,
   "metadata": {},
   "outputs": [
    {
     "ename": "TypeError",
     "evalue": "'<=' not supported between instances of 'NoneType' and 'int'",
     "output_type": "error",
     "traceback": [
      "\u001b[0;31m---------------------------------------------------------------------------\u001b[0m",
      "\u001b[0;31mTypeError\u001b[0m                                 Traceback (most recent call last)",
      "\u001b[0;32m<ipython-input-7-40b68b072010>\u001b[0m in \u001b[0;36m<module>\u001b[0;34m\u001b[0m\n\u001b[1;32m      1\u001b[0m \u001b[0;31m# Standardize\u001b[0m\u001b[0;34m\u001b[0m\u001b[0;34m\u001b[0m\u001b[0;34m\u001b[0m\u001b[0m\n\u001b[0;32m----> 2\u001b[0;31m \u001b[0mfinal_df\u001b[0m\u001b[0;34m[\u001b[0m\u001b[0mstandardized_data\u001b[0m\u001b[0;34m]\u001b[0m \u001b[0;34m=\u001b[0m \u001b[0mQuantileTransformer\u001b[0m\u001b[0;34m(\u001b[0m\u001b[0mn_quantiles\u001b[0m\u001b[0;34m=\u001b[0m\u001b[0;32mNone\u001b[0m\u001b[0;34m,\u001b[0m \u001b[0moutput_distribution\u001b[0m\u001b[0;34m=\u001b[0m\u001b[0;34m'uniform'\u001b[0m\u001b[0;34m,\u001b[0m \u001b[0mrandom_state\u001b[0m\u001b[0;34m=\u001b[0m\u001b[0;36m0\u001b[0m\u001b[0;34m)\u001b[0m\u001b[0;34m.\u001b[0m\u001b[0mfit_transform\u001b[0m\u001b[0;34m(\u001b[0m\u001b[0mfinal_df\u001b[0m\u001b[0;34m[\u001b[0m\u001b[0mstandardized_data\u001b[0m\u001b[0;34m]\u001b[0m\u001b[0;34m)\u001b[0m\u001b[0;34m\u001b[0m\u001b[0;34m\u001b[0m\u001b[0m\n\u001b[0m\u001b[1;32m      3\u001b[0m \u001b[0;31m#final_df[standardized_data] = RobustScaler().fit_transform(final_df[standardized_data])\u001b[0m\u001b[0;34m\u001b[0m\u001b[0;34m\u001b[0m\u001b[0;34m\u001b[0m\u001b[0m\n",
      "\u001b[0;32m/Library/Frameworks/Python.framework/Versions/3.7/lib/python3.7/site-packages/sklearn/base.py\u001b[0m in \u001b[0;36mfit_transform\u001b[0;34m(self, X, y, **fit_params)\u001b[0m\n\u001b[1;32m    688\u001b[0m         \u001b[0;32mif\u001b[0m \u001b[0my\u001b[0m \u001b[0;32mis\u001b[0m \u001b[0;32mNone\u001b[0m\u001b[0;34m:\u001b[0m\u001b[0;34m\u001b[0m\u001b[0;34m\u001b[0m\u001b[0m\n\u001b[1;32m    689\u001b[0m             \u001b[0;31m# fit method of arity 1 (unsupervised transformation)\u001b[0m\u001b[0;34m\u001b[0m\u001b[0;34m\u001b[0m\u001b[0;34m\u001b[0m\u001b[0m\n\u001b[0;32m--> 690\u001b[0;31m             \u001b[0;32mreturn\u001b[0m \u001b[0mself\u001b[0m\u001b[0;34m.\u001b[0m\u001b[0mfit\u001b[0m\u001b[0;34m(\u001b[0m\u001b[0mX\u001b[0m\u001b[0;34m,\u001b[0m \u001b[0;34m**\u001b[0m\u001b[0mfit_params\u001b[0m\u001b[0;34m)\u001b[0m\u001b[0;34m.\u001b[0m\u001b[0mtransform\u001b[0m\u001b[0;34m(\u001b[0m\u001b[0mX\u001b[0m\u001b[0;34m)\u001b[0m\u001b[0;34m\u001b[0m\u001b[0;34m\u001b[0m\u001b[0m\n\u001b[0m\u001b[1;32m    691\u001b[0m         \u001b[0;32melse\u001b[0m\u001b[0;34m:\u001b[0m\u001b[0;34m\u001b[0m\u001b[0;34m\u001b[0m\u001b[0m\n\u001b[1;32m    692\u001b[0m             \u001b[0;31m# fit method of arity 2 (supervised transformation)\u001b[0m\u001b[0;34m\u001b[0m\u001b[0;34m\u001b[0m\u001b[0;34m\u001b[0m\u001b[0m\n",
      "\u001b[0;32m/Library/Frameworks/Python.framework/Versions/3.7/lib/python3.7/site-packages/sklearn/preprocessing/_data.py\u001b[0m in \u001b[0;36mfit\u001b[0;34m(self, X, y)\u001b[0m\n\u001b[1;32m   2345\u001b[0m         \u001b[0mself\u001b[0m \u001b[0;34m:\u001b[0m \u001b[0mobject\u001b[0m\u001b[0;34m\u001b[0m\u001b[0;34m\u001b[0m\u001b[0m\n\u001b[1;32m   2346\u001b[0m         \"\"\"\n\u001b[0;32m-> 2347\u001b[0;31m         \u001b[0;32mif\u001b[0m \u001b[0mself\u001b[0m\u001b[0;34m.\u001b[0m\u001b[0mn_quantiles\u001b[0m \u001b[0;34m<=\u001b[0m \u001b[0;36m0\u001b[0m\u001b[0;34m:\u001b[0m\u001b[0;34m\u001b[0m\u001b[0;34m\u001b[0m\u001b[0m\n\u001b[0m\u001b[1;32m   2348\u001b[0m             raise ValueError(\"Invalid value for 'n_quantiles': %d. \"\n\u001b[1;32m   2349\u001b[0m                              \u001b[0;34m\"The number of quantiles must be at least one.\"\u001b[0m\u001b[0;34m\u001b[0m\u001b[0;34m\u001b[0m\u001b[0m\n",
      "\u001b[0;31mTypeError\u001b[0m: '<=' not supported between instances of 'NoneType' and 'int'"
     ]
    }
   ],
   "source": [
    "# Standardize\n",
    "final_df[standardized_data] = QuantileTransformer(n_quantiles='None', output_distribution='uniform', random_state=0).fit_transform(final_df[standardized_data])\n",
    "#final_df[standardized_data] = RobustScaler().fit_transform(final_df[standardized_data])"
   ]
  },
  {
   "cell_type": "code",
   "execution_count": null,
   "metadata": {},
   "outputs": [],
   "source": [
    "final_df = drop_missing_cols(final_df, 30)"
   ]
  },
  {
   "cell_type": "code",
   "execution_count": null,
   "metadata": {},
   "outputs": [],
   "source": [
    "plot_missing_percentages(final_df)"
   ]
  },
  {
   "cell_type": "code",
   "execution_count": null,
   "metadata": {},
   "outputs": [],
   "source": [
    "male, female = get_male_female(final_df)"
   ]
  },
  {
   "cell_type": "code",
   "execution_count": null,
   "metadata": {},
   "outputs": [],
   "source": [
    "colors = {1:'red', 97:'green', 2:'blue'}"
   ]
  },
  {
   "cell_type": "markdown",
   "metadata": {},
   "source": [
    "## PCA on Male data set"
   ]
  },
  {
   "cell_type": "code",
   "execution_count": null,
   "metadata": {},
   "outputs": [],
   "source": [
    "def pca_pipe(dataset):\n",
    "    pca = PCA(30)\n",
    "    X = dataset\n",
    "    \n",
    "    # Impute NaN value data\n",
    "    # imp = SimpleImputer(missing_values=np.nan, strategy='mean')\n",
    "    imp = IterativeImputer(n_nearest_features=10, max_iter=50, initial_strategy='median', random_state=0)\n",
    "    #imp = KNNImputer(n_neighbors=5, weights=\"distance\")\n",
    "    imp.fit(X)\n",
    "    X_new = imp.transform(X)\n",
    "    \n",
    "    # Project PCA\n",
    "    X_proj = pca.fit_transform(X_new)\n",
    "    t_sne = TSNE(n_components=2, init='pca', perplexity=50, n_iter=5000, n_iter_without_progress=1000)\n",
    "    X_proj = t_sne.fit_transform(X_proj)\n",
    "    return X_proj\n",
    "\n",
    "def tts(X, y, test_size):\n",
    "    X_train, X_test, y_train, y_test = train_test_split(X, y, stratify=y, test_size=test_size)\n",
    "    return X_train, X_test, y_train, y_test"
   ]
  },
  {
   "cell_type": "code",
   "execution_count": null,
   "metadata": {},
   "outputs": [],
   "source": [
    "male_X = male.drop(columns=['PHDIAGCD', 'DMSEX', 'PHMH1', 'PHMH3','PHMH4','PHMH5','PHMH10','PHMH11','PHMH12','PHMH13','PHMH14','PHMH15','PHMH16','PHMH17','PHMH18'])\n",
    "male_y = male['PHDIAGCD']\n",
    "X_proj = pca_pipe(male_X)"
   ]
  },
  {
   "cell_type": "code",
   "execution_count": null,
   "metadata": {},
   "outputs": [],
   "source": [
    "kmeans = KMeans(n_clusters=2, random_state=0).fit(X_proj)\n",
    "pred = kmeans.predict(X_proj)\n",
    "centroids = kmeans.cluster_centers_\n",
    "plt.figure(figsize=(18, 7))\n",
    "\n",
    "plt.subplot(1, 2, 1)\n",
    "plt.scatter(X_proj[:,0], X_proj[:,1], c=male_y)\n",
    "plt.scatter(centroids[:,0] , centroids[:,1] , s = 80, color = 'red')\n",
    "plt.xlabel('t-SNE 1')\n",
    "plt.ylabel('t-SNE 2')\n",
    "\n",
    "plt.subplot(1, 2, 2)\n",
    "plt.scatter(X_proj[:,0], X_proj[:,1], c=pred)\n",
    "plt.scatter(centroids[:,0] , centroids[:,1] , s = 80, color = 'red') \n",
    "plt.xlabel('t-SNE 1')\n",
    "plt.ylabel('t-SNE 2')\n",
    "\n",
    "#plt.savefig('result_pca_tsne_kmeans_male')\n",
    "plt.show()"
   ]
  },
  {
   "cell_type": "markdown",
   "metadata": {},
   "source": [
    "## PCA on Female data set"
   ]
  },
  {
   "cell_type": "code",
   "execution_count": null,
   "metadata": {},
   "outputs": [],
   "source": [
    "female_X = female.drop(columns=['PHDIAGCD', 'DMSEX', 'PHMH1', 'PHMH3','PHMH4','PHMH5','PHMH10','PHMH11','PHMH12','PHMH13','PHMH14','PHMH15','PHMH16','PHMH17','PHMH18'])\n",
    "female_y = female['PHDIAGCD']\n",
    "X_proj = pca_pipe(female_X)"
   ]
  },
  {
   "cell_type": "code",
   "execution_count": null,
   "metadata": {},
   "outputs": [],
   "source": [
    "kmeans = KMeans(n_clusters=2, random_state=0).fit(X_proj)\n",
    "pred = kmeans.predict(X_proj)\n",
    "centroids = kmeans.cluster_centers_\n",
    "plt.figure(figsize=(18, 7))\n",
    "\n",
    "plt.subplot(1, 2, 1)\n",
    "plt.scatter(X_proj[:,0], X_proj[:,1], c=female_y)\n",
    "plt.scatter(centroids[:,0] , centroids[:,1] , s = 80, color = 'red')\n",
    "plt.xlabel('t-SNE 1')\n",
    "plt.ylabel('t-SNE 2')\n",
    "\n",
    "plt.subplot(1, 2, 2)\n",
    "plt.scatter(X_proj[:,0], X_proj[:,1], c=pred)\n",
    "plt.scatter(centroids[:,0] , centroids[:,1] , s = 80, color = 'red') \n",
    "plt.xlabel('t-SNE 1')\n",
    "plt.ylabel('t-SNE 2')\n",
    "\n",
    "#plt.savefig('result_pca_tsne_kmeans_male')\n",
    "plt.show()"
   ]
  },
  {
   "cell_type": "markdown",
   "metadata": {},
   "source": [
    "## PCA on both gender"
   ]
  },
  {
   "cell_type": "code",
   "execution_count": null,
   "metadata": {},
   "outputs": [],
   "source": [
    "X = final_df.drop(columns=['PHDIAGCD', 'DMSEX', 'PHMH1', 'PHMH3','PHMH4','PHMH5','PHMH10','PHMH11','PHMH12','PHMH13','PHMH14','PHMH15','PHMH16','PHMH17','PHMH18'])\n",
    "y = final_df['PHDIAGCD']\n",
    "X_proj = pca_pipe(X)"
   ]
  },
  {
   "cell_type": "code",
   "execution_count": null,
   "metadata": {},
   "outputs": [],
   "source": [
    "plt.scatter(X_proj[:,0], X_proj[:,1], c=y.map(colors).fillna('yellow'))\n",
    "plt.show()"
   ]
  },
  {
   "cell_type": "markdown",
   "metadata": {},
   "source": [
    "# K-Means Clustering"
   ]
  },
  {
   "cell_type": "code",
   "execution_count": null,
   "metadata": {},
   "outputs": [],
   "source": [
    "X = final_df.drop(columns=['PHDIAGCD', 'DMSEX', 'PHMH1', 'PHMH3','PHMH4','PHMH5','PHMH10','PHMH11','PHMH12','PHMH13','PHMH14','PHMH15','PHMH16','PHMH17','PHMH18'])\n",
    "y = final_df['PHDIAGCD']\n",
    "X_train, X_test, y_train, y_test = tts(X, y, 0.3)"
   ]
  },
  {
   "cell_type": "code",
   "execution_count": null,
   "metadata": {},
   "outputs": [],
   "source": [
    "Xt_proj = pca_pipe(X_train)\n",
    "#Xtest_proj = pca_pipe(X_test)"
   ]
  },
  {
   "cell_type": "markdown",
   "metadata": {},
   "source": [
    "### How to determine K value?\n",
    "By using Elbow method, which is a heuristic used in determining the number of clusters in a data set."
   ]
  },
  {
   "cell_type": "code",
   "execution_count": null,
   "metadata": {},
   "outputs": [],
   "source": [
    "inertia_list = []\n",
    "for num_clusters in np.arange(1, 21):\n",
    "    km = KMeans(n_clusters=num_clusters)\n",
    "    km.fit(Xt_proj)\n",
    "    inertia_list.append(km.inertia_)"
   ]
  },
  {
   "cell_type": "code",
   "execution_count": null,
   "metadata": {},
   "outputs": [],
   "source": [
    "#Plotting the Elbow Curve\n",
    "plt.figure(figsize=(10, 5))\n",
    "plt.plot(np.arange(1, 21), inertia_list)\n",
    "plt.grid(True)\n",
    "plt.xlabel('Values of K')\n",
    "plt.ylabel('Inertia')\n",
    "plt.title('Elbow Curve')\n",
    "plt.show()"
   ]
  },
  {
   "cell_type": "markdown",
   "metadata": {},
   "source": [
    "From above, we select the optimum value of k by determining the Elbow Point - a point after which the inertia starts decreasing linearly. In this case, we can select the value of k as 5."
   ]
  },
  {
   "cell_type": "markdown",
   "metadata": {},
   "source": [
    "### Main"
   ]
  },
  {
   "cell_type": "code",
   "execution_count": null,
   "metadata": {},
   "outputs": [],
   "source": [
    "X_pca = pca_pipe(X)\n",
    "kmeans = KMeans(n_clusters=2, random_state=0).fit(X_pca)\n",
    "pred = kmeans.predict(X_pca)"
   ]
  },
  {
   "cell_type": "code",
   "execution_count": null,
   "metadata": {},
   "outputs": [],
   "source": [
    "plt.figure(figsize=(18, 7))\n",
    "\n",
    "plt.subplot(1, 2, 1)\n",
    "plt.scatter(X_pca[:,0], X_pca[:,1], c=y)\n",
    "centroids = kmeans.cluster_centers_\n",
    "plt.scatter(centroids[:,0] , centroids[:,1] , s = 80, color = 'red')\n",
    "plt.xlabel('t-SNE 1')\n",
    "plt.ylabel('t-SNE 2')\n",
    "\n",
    "plt.subplot(1, 2, 2)\n",
    "plt.scatter(X_pca[:,0], X_pca[:,1], c=pred)\n",
    "centroids = kmeans.cluster_centers_\n",
    "plt.scatter(centroids[:,0] , centroids[:,1] , s = 80, color = 'red') \n",
    "plt.xlabel('t-SNE 1')\n",
    "plt.ylabel('t-SNE 2')\n",
    "\n",
    "plt.savefig('result_pca_tsne_kmeans')\n",
    "plt.show()"
   ]
  },
  {
   "cell_type": "code",
   "execution_count": null,
   "metadata": {},
   "outputs": [],
   "source": [
    "plt.scatter(X_pca[:,0], X_pca[:,1], c=y)\n",
    "centroids = kmeans.cluster_centers_\n",
    "plt.scatter(centroids[:,0] , centroids[:,1] , s = 80, color = 'red')\n",
    "plt.xlabel('t-SNE 1')\n",
    "plt.ylabel('t-SNE 2')\n",
    "plt.show()"
   ]
  },
  {
   "cell_type": "code",
   "execution_count": null,
   "metadata": {},
   "outputs": [],
   "source": [
    "print(metrics.silhouette_score(X_pca, pred, metric='euclidean'))\n",
    "print(compute_jaccard(y, pred))\n",
    "cont = metrics.cluster.contingency_matrix(y.replace({1:1, 2:1, 97: 0}), pred)\n",
    "print(np.sum(np.amax(cont, axis=0)) / np.sum(cont))"
   ]
  },
  {
   "cell_type": "markdown",
   "metadata": {},
   "source": [
    "### Test"
   ]
  },
  {
   "cell_type": "raw",
   "metadata": {},
   "source": [
    "kmeans = KMeans(n_clusters=2, random_state=0).fit(Xt_proj)"
   ]
  },
  {
   "cell_type": "raw",
   "metadata": {},
   "source": [
    "Xt_proj[0]"
   ]
  },
  {
   "cell_type": "raw",
   "metadata": {},
   "source": [
    "pred_val = kmeans.predict(Xtest_proj)"
   ]
  },
  {
   "cell_type": "raw",
   "metadata": {},
   "source": [
    "plt.scatter(Xtest_proj[:,0], Xtest_proj[:,1], c=pred_val)\n",
    "centroids = kmeans.cluster_centers_\n",
    "plt.scatter(centroids[:,0] , centroids[:,1] , s = 80, color = 'red') \n",
    "plt.show()"
   ]
  },
  {
   "cell_type": "raw",
   "metadata": {},
   "source": [
    "plt.scatter(Xtest_proj[:,0], Xtest_proj[:,1], c=y_test)\n",
    "centroids = kmeans.cluster_centers_\n",
    "plt.scatter(centroids[:,0] , centroids[:,1] , s = 80, color = 'red') \n",
    "plt.show()"
   ]
  },
  {
   "cell_type": "raw",
   "metadata": {},
   "source": [
    "#https://blog.ineuron.ai/Evaluation-of-Clustering-INj629fihC\n",
    "print(metrics.silhouette_score(Xtest_proj, pred_val, metric='euclidean'))\n",
    "print(compute_jaccard(y_test, pred_val))\n",
    "cont = metrics.cluster.contingency_matrix(y_test.replace({1:1, 2:1, 97: 0}), pred_val)\n",
    "print(np.sum(np.amax(cont, axis=0)) / np.sum(cont))"
   ]
  },
  {
   "cell_type": "markdown",
   "metadata": {},
   "source": [
    "### ignore"
   ]
  },
  {
   "cell_type": "raw",
   "metadata": {},
   "source": [
    "raw_data = pd.read_excel('raw_data.xlsx', sheet_name='Data', skiprows=1) # Skip first row\n",
    "raw_data.columns = [col.replace('1.', '') for col in raw_data.columns] # Remove 1. from col names\n",
    "non_diagnosed = raw_data.groupby('SubjectSeq').filter(lambda x : len(x)>1).groupby('SubjectSeq').first()"
   ]
  },
  {
   "cell_type": "raw",
   "metadata": {},
   "source": [
    "non_diagnosed = non_diagnosed.drop(columns=[col for col in raw_data if col not in red_flags+medical_history])\n",
    "non_diagnosed[medical_history] = (non_diagnosed[medical_history].notnull()).astype('int')"
   ]
  },
  {
   "cell_type": "raw",
   "metadata": {},
   "source": [
    "X = non_diagnosed.drop(columns=['PHDIAGCD', 'DMSEX', 'HEBNPUN', 'HETNTUN', 'HEKAPUN', 'HELAMUN', 'DUOTHBIYN' ,'EKGVOLT'])\n",
    "y = non_diagnosed['PHDIAGCD']\n",
    "X_proj = pca_pipe(X)"
   ]
  },
  {
   "cell_type": "raw",
   "metadata": {},
   "source": [
    "non_diagnosed[non_diagnosed['PHDIAGCD'].isna()]"
   ]
  },
  {
   "cell_type": "raw",
   "metadata": {},
   "source": [
    "pred = kmeans.predict(X_proj)"
   ]
  },
  {
   "cell_type": "raw",
   "metadata": {},
   "source": [
    "plt.scatter(X_proj[:,0], X_proj[:,1], c=pred)\n",
    "plt.show()"
   ]
  },
  {
   "cell_type": "markdown",
   "metadata": {},
   "source": [
    "# Hierarchical Clustering\n",
    "https://www.analyticsvidhya.com/blog/2019/05/beginners-guide-hierarchical-clustering/"
   ]
  },
  {
   "cell_type": "code",
   "execution_count": null,
   "metadata": {},
   "outputs": [],
   "source": [
    "from sklearn.preprocessing import normalize\n",
    "import scipy.cluster.hierarchy as shc\n",
    "from sklearn.cluster import AgglomerativeClustering"
   ]
  },
  {
   "cell_type": "code",
   "execution_count": null,
   "metadata": {},
   "outputs": [],
   "source": [
    "X = final_df.drop(columns=['PHDIAGCD', 'DMSEX', 'PHMH1', 'PHMH3','PHMH4','PHMH5','PHMH10','PHMH11','PHMH12','PHMH13','PHMH14','PHMH15','PHMH16','PHMH17','PHMH18'])\n",
    "y = final_df['PHDIAGCD']\n",
    "X_train, X_test, y_train, y_test = tts(X, y, 0.3)\n",
    "\n",
    "X_proj = pca_pipe(X) \n",
    "Xt_proj = pca_pipe(X_train)\n",
    "#Xtest_proj = pca_pipe(X_test)"
   ]
  },
  {
   "cell_type": "code",
   "execution_count": null,
   "metadata": {},
   "outputs": [],
   "source": [
    "plt.figure(figsize=(10, 7))  \n",
    "plt.title(\"Dendrograms\")  \n",
    "dend = shc.dendrogram(shc.linkage(X_proj, method='ward'))"
   ]
  },
  {
   "cell_type": "code",
   "execution_count": null,
   "metadata": {},
   "outputs": [],
   "source": [
    "plt.figure(figsize=(10, 7))  \n",
    "plt.scatter(X_proj[:,0], X_proj[:,1], c=y) "
   ]
  },
  {
   "cell_type": "markdown",
   "metadata": {},
   "source": [
    "# Agglomerative Hierarchical Clustering"
   ]
  },
  {
   "cell_type": "code",
   "execution_count": null,
   "metadata": {},
   "outputs": [],
   "source": [
    "cluster = AgglomerativeClustering(n_clusters=2, affinity='euclidean', linkage='ward')  \n",
    "preds = cluster.fit_predict(X_pca)\n",
    "\n",
    "#plt.figure(figsize=(10, 7))\n",
    "#plt.scatter(X_pca[:,0], X_pca[:,1], c=preds)\n",
    "\n",
    "plt.figure(figsize=(18, 7))\n",
    "\n",
    "plt.subplot(1, 2, 1)\n",
    "plt.scatter(X_pca[:,0], X_pca[:,1], c=y)\n",
    "plt.xlabel('t-SNE 1')\n",
    "plt.ylabel('t-SNE 2')\n",
    "\n",
    "plt.subplot(1, 2, 2)\n",
    "plt.scatter(X_pca[:,0], X_pca[:,1], c=preds)\n",
    "plt.xlabel('t-SNE 1')\n",
    "plt.ylabel('t-SNE 2')\n",
    "\n",
    "plt.savefig('result_pca_tsne_agglo')\n",
    "plt.show()"
   ]
  },
  {
   "cell_type": "code",
   "execution_count": null,
   "metadata": {},
   "outputs": [],
   "source": [
    "plt.figure(figsize=(10, 7))  \n",
    "plt.scatter(X_pca[:,0], X_pca[:,1], c=y)"
   ]
  },
  {
   "cell_type": "code",
   "execution_count": null,
   "metadata": {},
   "outputs": [],
   "source": [
    "print(metrics.silhouette_score(X_pca, preds, metric='euclidean'))\n",
    "print(compute_jaccard(y, preds))"
   ]
  },
  {
   "cell_type": "raw",
   "metadata": {},
   "source": [
    "cluster = AgglomerativeClustering(n_clusters=2, affinity='euclidean', linkage='ward')\n",
    "preds_val = cluster.fit_predict(Xtest_proj)\n",
    "\n",
    "plt.figure(figsize=(10, 7))\n",
    "plt.scatter(Xtest_proj[:,0], Xtest_proj[:,1], c=preds_val)"
   ]
  },
  {
   "cell_type": "raw",
   "metadata": {},
   "source": [
    "plt.figure(figsize=(10, 7))\n",
    "plt.scatter(Xtest_proj[:,0], Xtest_proj[:,1], c=y_test)"
   ]
  },
  {
   "cell_type": "raw",
   "metadata": {},
   "source": [
    "print(metrics.silhouette_score(Xtest_proj, preds_val, metric='euclidean'))\n",
    "print(compute_jaccard(y_test, preds_val))"
   ]
  },
  {
   "cell_type": "code",
   "execution_count": null,
   "metadata": {},
   "outputs": [],
   "source": []
  }
 ],
 "metadata": {
  "kernelspec": {
   "display_name": "Python 3",
   "language": "python",
   "name": "python3"
  },
  "language_info": {
   "codemirror_mode": {
    "name": "ipython",
    "version": 3
   },
   "file_extension": ".py",
   "mimetype": "text/x-python",
   "name": "python",
   "nbconvert_exporter": "python",
   "pygments_lexer": "ipython3",
   "version": "3.7.9"
  }
 },
 "nbformat": 4,
 "nbformat_minor": 4
}
