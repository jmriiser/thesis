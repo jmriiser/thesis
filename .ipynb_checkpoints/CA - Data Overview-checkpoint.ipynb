{
 "cells": [
  {
   "cell_type": "code",
   "execution_count": 1,
   "metadata": {},
   "outputs": [],
   "source": [
    "import pandas as pd\n",
    "import numpy as np\n",
    "import matplotlib.pyplot as plt\n",
    "from utils import *"
   ]
  },
  {
   "cell_type": "code",
   "execution_count": 2,
   "metadata": {},
   "outputs": [],
   "source": [
    "df = pd.read_excel('raw_data.xlsx', sheet_name='Data', skiprows=1) # Skip first row"
   ]
  },
  {
   "cell_type": "code",
   "execution_count": 10,
   "metadata": {},
   "outputs": [
    {
     "data": {
      "text/plain": [
       "SiteSeq         0.000000\n",
       "SiteName        0.000000\n",
       "SiteCode        0.000000\n",
       "SubjectSeq      0.000000\n",
       "SubjectId       0.000000\n",
       "                 ...    \n",
       "1.EOSDTHDT     89.589905\n",
       "1.EOSSP       100.000000\n",
       "1.EOSDEA       89.274448\n",
       "1.EOSDEACD     89.274448\n",
       "1.EOSDEASP     95.899054\n",
       "Name: percent_missing, Length: 521, dtype: float64"
      ]
     },
     "execution_count": 10,
     "metadata": {},
     "output_type": "execute_result"
    }
   ],
   "source": [
    "custom_summary(df).percent_missing"
   ]
  },
  {
   "cell_type": "code",
   "execution_count": 8,
   "metadata": {},
   "outputs": [
    {
     "data": {
      "image/png": "[encoded data removed]",
      "text/plain": [
       "<Figure size 432x288 with 1 Axes>"
      ]
     },
     "metadata": {
      "needs_background": "light"
     },
     "output_type": "display_data"
    }
   ],
   "source": [
    "plt.hist(custom_summary(df).percent_missing)\n",
    "plt.ylabel('Missing')\n",
    "plt.xlabel('Data');\n",
    "plt.show()"
   ]
  },
  {
   "cell_type": "code",
   "execution_count": 5,
   "metadata": {},
   "outputs": [
    {
     "data": {
      "text/plain": [
       "SiteSeq       317\n",
       "SiteName      317\n",
       "SiteCode      317\n",
       "SubjectSeq    317\n",
       "SubjectId     317\n",
       "             ... \n",
       "1.EOSDTHDT     33\n",
       "1.EOSSP         0\n",
       "1.EOSDEA       34\n",
       "1.EOSDEACD     34\n",
       "1.EOSDEASP     13\n",
       "Length: 521, dtype: int64"
      ]
     },
     "execution_count": 5,
     "metadata": {},
     "output_type": "execute_result"
    }
   ],
   "source": [
    "df.count()"
   ]
  },
  {
   "cell_type": "code",
   "execution_count": null,
   "metadata": {},
   "outputs": [],
   "source": []
  }
 ],
 "metadata": {
  "kernelspec": {
   "display_name": "Python 3",
   "language": "python",
   "name": "python3"
  },
  "language_info": {
   "codemirror_mode": {
    "name": "ipython",
    "version": 3
   },
   "file_extension": ".py",
   "mimetype": "text/x-python",
   "name": "python",
   "nbconvert_exporter": "python",
   "pygments_lexer": "ipython3",
   "version": "3.7.9"
  }
 },
 "nbformat": 4,
 "nbformat_minor": 4
}
