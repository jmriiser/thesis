{
 "cells": [
  {
   "cell_type": "code",
   "execution_count": 1,
   "metadata": {},
   "outputs": [],
   "source": [
    "import numpy as np\n",
    "import pandas as pd\n",
    "import seaborn as sns\n",
    "import matplotlib.pyplot as plt\n",
    "from sklearn.pipeline import Pipeline\n",
    "\n",
    "from src.pipelines import get_num_of_k\n",
    "from src.utils import plot_missing_percentages, drop_missing_cols\n",
    "from src.pipelines import preprocessor, umap_preprocessor, pca_preprocessor, dimension_reducer \n",
    "from src.dataloader import get_data, dpd_transform, R_CAT_VAR, R_CONT_VAR, CAT_VAR, CONT_VAR, RED_FLAGS, get_raw_data\n",
    "from src.write_plots import plot_single, plot_b2b\n",
    "from src.eval_metrics import eval_all_metrics, eval_internal_metrics"
   ]
  },
  {
   "cell_type": "code",
   "execution_count": 2,
   "metadata": {},
   "outputs": [],
   "source": [
    "cats = [\n",
    "    'PHNYHA', \n",
    "    'PHSYNA', 'PHCARPYN', 'PHSPIYN',\n",
    "    'PHMH2', 'PHMH6', 'PHMH7', 'PHMH8', 'PHMH9',\n",
    "    'PHMH10',\n",
    "    'EKGVOLT', 'DUOTHBIYN',\n",
    "    'DPD'\n",
    "]\n",
    "\n",
    "conts = [\n",
    "    'DMAGE',\n",
    "    'ECHLVIDD', #'ECHLVIDS',\n",
    "    'ECHIVSD', 'ECHLVPW',\n",
    "    #'ECHLADIA',\n",
    "    'ECHLAAR',# 'ECHLAVOL', 'ECHEJFR', \n",
    "    'ECHEA',\n",
    "    'HEKRRE', 'HEGFRRE', 'HEBNPRE', 'HETNTRE',\n",
    "    'K/L Ratio'\n",
    "]"
   ]
  },
  {
   "cell_type": "code",
   "execution_count": 3,
   "metadata": {},
   "outputs": [],
   "source": [
    "data = get_raw_data(dataset='./data/data_v2.xlsx', sheet_name='Data')\n",
    "#data = drop_missing_cols(data, 40)\n",
    "\n",
    "X = data.copy()\n",
    "y = data.PHDIAG\n",
    "\n",
    "y_ca = y.replace('TTR amyloidose', 'CA')\n",
    "y_ca = y_ca.replace('AL amyloidose', 'CA')\n",
    "y_ca = y_ca.replace('Annet', 'non-CA')"
   ]
  },
  {
   "cell_type": "raw",
   "metadata": {},
   "source": [
    "X_preprocessed = preprocessor.fit_transform(X.drop(columns=['PHDIAG', 'DMSEX']))\n",
    "X_umap = umap_preprocessor.fit_transform(X.drop(columns=['PHDIAG', 'DMSEX']))\n",
    "X_pca = pca_preprocessor.fit_transform(X.drop(columns=['PHDIAG', 'DMSEX']))\n",
    "\n",
    "#X_tsne_reduced = TSNE(n_components=2, random_state=0).fit_transform(X_preprocessed)\n",
    "X_umap_reduced = umap.UMAP(n_neighbors=20, min_dist=0.0, n_components=2,random_state=0).fit_transform(X_umap)"
   ]
  },
  {
   "cell_type": "code",
   "execution_count": 4,
   "metadata": {},
   "outputs": [
    {
     "ename": "KeyError",
     "evalue": "\"['ECHEA'] not in index\"",
     "output_type": "error",
     "traceback": [
      "\u001b[0;31m---------------------------------------------------------------------------\u001b[0m",
      "\u001b[0;31mKeyError\u001b[0m                                  Traceback (most recent call last)",
      "\u001b[0;32m<ipython-input-4-c32736250d15>\u001b[0m in \u001b[0;36m<module>\u001b[0;34m\u001b[0m\n\u001b[1;32m      4\u001b[0m \u001b[0;34m\u001b[0m\u001b[0m\n\u001b[1;32m      5\u001b[0m \u001b[0mimputer\u001b[0m \u001b[0;34m=\u001b[0m \u001b[0mIterativeImputer\u001b[0m\u001b[0;34m(\u001b[0m\u001b[0mBayesianRidge\u001b[0m\u001b[0;34m(\u001b[0m\u001b[0;34m)\u001b[0m\u001b[0;34m)\u001b[0m\u001b[0;34m\u001b[0m\u001b[0;34m\u001b[0m\u001b[0m\n\u001b[0;32m----> 6\u001b[0;31m \u001b[0mimpute_data\u001b[0m \u001b[0;34m=\u001b[0m \u001b[0mpd\u001b[0m\u001b[0;34m.\u001b[0m\u001b[0mDataFrame\u001b[0m\u001b[0;34m(\u001b[0m\u001b[0mimputer\u001b[0m\u001b[0;34m.\u001b[0m\u001b[0mfit_transform\u001b[0m\u001b[0;34m(\u001b[0m\u001b[0mdata\u001b[0m\u001b[0;34m[\u001b[0m\u001b[0mconts\u001b[0m\u001b[0;34m]\u001b[0m\u001b[0;34m)\u001b[0m\u001b[0;34m,\u001b[0m \u001b[0mindex\u001b[0m\u001b[0;34m=\u001b[0m\u001b[0mdata\u001b[0m\u001b[0;34m.\u001b[0m\u001b[0mindex\u001b[0m\u001b[0;34m,\u001b[0m \u001b[0mcolumns\u001b[0m\u001b[0;34m=\u001b[0m\u001b[0mconts\u001b[0m\u001b[0;34m)\u001b[0m\u001b[0;34m\u001b[0m\u001b[0;34m\u001b[0m\u001b[0m\n\u001b[0m\u001b[1;32m      7\u001b[0m \u001b[0mnormalized\u001b[0m \u001b[0;34m=\u001b[0m \u001b[0mpd\u001b[0m\u001b[0;34m.\u001b[0m\u001b[0mDataFrame\u001b[0m\u001b[0;34m(\u001b[0m\u001b[0mMinMaxScaler\u001b[0m\u001b[0;34m(\u001b[0m\u001b[0;34m)\u001b[0m\u001b[0;34m.\u001b[0m\u001b[0mfit_transform\u001b[0m\u001b[0;34m(\u001b[0m\u001b[0mimpute_data\u001b[0m\u001b[0;34m)\u001b[0m\u001b[0;34m,\u001b[0m \u001b[0mindex\u001b[0m\u001b[0;34m=\u001b[0m\u001b[0mdata\u001b[0m\u001b[0;34m.\u001b[0m\u001b[0mindex\u001b[0m\u001b[0;34m,\u001b[0m \u001b[0mcolumns\u001b[0m\u001b[0;34m=\u001b[0m\u001b[0mconts\u001b[0m\u001b[0;34m)\u001b[0m\u001b[0;34m\u001b[0m\u001b[0;34m\u001b[0m\u001b[0m\n\u001b[1;32m      8\u001b[0m \u001b[0mupdated_data\u001b[0m \u001b[0;34m=\u001b[0m \u001b[0mpd\u001b[0m\u001b[0;34m.\u001b[0m\u001b[0mconcat\u001b[0m\u001b[0;34m(\u001b[0m\u001b[0;34m[\u001b[0m\u001b[0mnormalized\u001b[0m\u001b[0;34m,\u001b[0m \u001b[0mdata\u001b[0m\u001b[0;34m[\u001b[0m\u001b[0mcats\u001b[0m\u001b[0;34m]\u001b[0m\u001b[0;34m]\u001b[0m\u001b[0;34m,\u001b[0m \u001b[0maxis\u001b[0m\u001b[0;34m=\u001b[0m\u001b[0;36m1\u001b[0m\u001b[0;34m)\u001b[0m\u001b[0;34m\u001b[0m\u001b[0;34m\u001b[0m\u001b[0m\n",
      "\u001b[0;32m/Library/Frameworks/Python.framework/Versions/3.7/lib/python3.7/site-packages/pandas/core/frame.py\u001b[0m in \u001b[0;36m__getitem__\u001b[0;34m(self, key)\u001b[0m\n\u001b[1;32m   2906\u001b[0m             \u001b[0;32mif\u001b[0m \u001b[0mis_iterator\u001b[0m\u001b[0;34m(\u001b[0m\u001b[0mkey\u001b[0m\u001b[0;34m)\u001b[0m\u001b[0;34m:\u001b[0m\u001b[0;34m\u001b[0m\u001b[0;34m\u001b[0m\u001b[0m\n\u001b[1;32m   2907\u001b[0m                 \u001b[0mkey\u001b[0m \u001b[0;34m=\u001b[0m \u001b[0mlist\u001b[0m\u001b[0;34m(\u001b[0m\u001b[0mkey\u001b[0m\u001b[0;34m)\u001b[0m\u001b[0;34m\u001b[0m\u001b[0;34m\u001b[0m\u001b[0m\n\u001b[0;32m-> 2908\u001b[0;31m             \u001b[0mindexer\u001b[0m \u001b[0;34m=\u001b[0m \u001b[0mself\u001b[0m\u001b[0;34m.\u001b[0m\u001b[0mloc\u001b[0m\u001b[0;34m.\u001b[0m\u001b[0m_get_listlike_indexer\u001b[0m\u001b[0;34m(\u001b[0m\u001b[0mkey\u001b[0m\u001b[0;34m,\u001b[0m \u001b[0maxis\u001b[0m\u001b[0;34m=\u001b[0m\u001b[0;36m1\u001b[0m\u001b[0;34m,\u001b[0m \u001b[0mraise_missing\u001b[0m\u001b[0;34m=\u001b[0m\u001b[0;32mTrue\u001b[0m\u001b[0;34m)\u001b[0m\u001b[0;34m[\u001b[0m\u001b[0;36m1\u001b[0m\u001b[0;34m]\u001b[0m\u001b[0;34m\u001b[0m\u001b[0;34m\u001b[0m\u001b[0m\n\u001b[0m\u001b[1;32m   2909\u001b[0m \u001b[0;34m\u001b[0m\u001b[0m\n\u001b[1;32m   2910\u001b[0m         \u001b[0;31m# take() does not accept boolean indexers\u001b[0m\u001b[0;34m\u001b[0m\u001b[0;34m\u001b[0m\u001b[0;34m\u001b[0m\u001b[0m\n",
      "\u001b[0;32m/Library/Frameworks/Python.framework/Versions/3.7/lib/python3.7/site-packages/pandas/core/indexing.py\u001b[0m in \u001b[0;36m_get_listlike_indexer\u001b[0;34m(self, key, axis, raise_missing)\u001b[0m\n\u001b[1;32m   1252\u001b[0m             \u001b[0mkeyarr\u001b[0m\u001b[0;34m,\u001b[0m \u001b[0mindexer\u001b[0m\u001b[0;34m,\u001b[0m \u001b[0mnew_indexer\u001b[0m \u001b[0;34m=\u001b[0m \u001b[0max\u001b[0m\u001b[0;34m.\u001b[0m\u001b[0m_reindex_non_unique\u001b[0m\u001b[0;34m(\u001b[0m\u001b[0mkeyarr\u001b[0m\u001b[0;34m)\u001b[0m\u001b[0;34m\u001b[0m\u001b[0;34m\u001b[0m\u001b[0m\n\u001b[1;32m   1253\u001b[0m \u001b[0;34m\u001b[0m\u001b[0m\n\u001b[0;32m-> 1254\u001b[0;31m         \u001b[0mself\u001b[0m\u001b[0;34m.\u001b[0m\u001b[0m_validate_read_indexer\u001b[0m\u001b[0;34m(\u001b[0m\u001b[0mkeyarr\u001b[0m\u001b[0;34m,\u001b[0m \u001b[0mindexer\u001b[0m\u001b[0;34m,\u001b[0m \u001b[0maxis\u001b[0m\u001b[0;34m,\u001b[0m \u001b[0mraise_missing\u001b[0m\u001b[0;34m=\u001b[0m\u001b[0mraise_missing\u001b[0m\u001b[0;34m)\u001b[0m\u001b[0;34m\u001b[0m\u001b[0;34m\u001b[0m\u001b[0m\n\u001b[0m\u001b[1;32m   1255\u001b[0m         \u001b[0;32mreturn\u001b[0m \u001b[0mkeyarr\u001b[0m\u001b[0;34m,\u001b[0m \u001b[0mindexer\u001b[0m\u001b[0;34m\u001b[0m\u001b[0;34m\u001b[0m\u001b[0m\n\u001b[1;32m   1256\u001b[0m \u001b[0;34m\u001b[0m\u001b[0m\n",
      "\u001b[0;32m/Library/Frameworks/Python.framework/Versions/3.7/lib/python3.7/site-packages/pandas/core/indexing.py\u001b[0m in \u001b[0;36m_validate_read_indexer\u001b[0;34m(self, key, indexer, axis, raise_missing)\u001b[0m\n\u001b[1;32m   1302\u001b[0m             \u001b[0;32mif\u001b[0m \u001b[0mraise_missing\u001b[0m\u001b[0;34m:\u001b[0m\u001b[0;34m\u001b[0m\u001b[0;34m\u001b[0m\u001b[0m\n\u001b[1;32m   1303\u001b[0m                 \u001b[0mnot_found\u001b[0m \u001b[0;34m=\u001b[0m \u001b[0mlist\u001b[0m\u001b[0;34m(\u001b[0m\u001b[0mset\u001b[0m\u001b[0;34m(\u001b[0m\u001b[0mkey\u001b[0m\u001b[0;34m)\u001b[0m \u001b[0;34m-\u001b[0m \u001b[0mset\u001b[0m\u001b[0;34m(\u001b[0m\u001b[0max\u001b[0m\u001b[0;34m)\u001b[0m\u001b[0;34m)\u001b[0m\u001b[0;34m\u001b[0m\u001b[0;34m\u001b[0m\u001b[0m\n\u001b[0;32m-> 1304\u001b[0;31m                 \u001b[0;32mraise\u001b[0m \u001b[0mKeyError\u001b[0m\u001b[0;34m(\u001b[0m\u001b[0;34mf\"{not_found} not in index\"\u001b[0m\u001b[0;34m)\u001b[0m\u001b[0;34m\u001b[0m\u001b[0;34m\u001b[0m\u001b[0m\n\u001b[0m\u001b[1;32m   1305\u001b[0m \u001b[0;34m\u001b[0m\u001b[0m\n\u001b[1;32m   1306\u001b[0m             \u001b[0;31m# we skip the warning on Categorical\u001b[0m\u001b[0;34m\u001b[0m\u001b[0;34m\u001b[0m\u001b[0;34m\u001b[0m\u001b[0m\n",
      "\u001b[0;31mKeyError\u001b[0m: \"['ECHEA'] not in index\""
     ]
    }
   ],
   "source": [
    "from sklearn.impute import IterativeImputer\n",
    "from sklearn.linear_model import BayesianRidge\n",
    "from sklearn.preprocessing import MinMaxScaler\n",
    "\n",
    "imputer = IterativeImputer(BayesianRidge())\n",
    "impute_data = pd.DataFrame(imputer.fit_transform(data[conts]), index=data.index, columns=conts)\n",
    "normalized = pd.DataFrame(MinMaxScaler().fit_transform(impute_data), index=data.index, columns=conts)\n",
    "updated_data = pd.concat([normalized, data[cats]], axis=1)\n",
    "\n",
    "cat_cols = list(updated_data.columns.get_indexer(cats))"
   ]
  },
  {
   "cell_type": "markdown",
   "metadata": {},
   "source": [
    "# Gower distance"
   ]
  },
  {
   "cell_type": "code",
   "execution_count": null,
   "metadata": {},
   "outputs": [],
   "source": [
    "import gower\n",
    "\n",
    "dist_matrix = gower.gower_matrix(updated_data)"
   ]
  },
  {
   "cell_type": "code",
   "execution_count": null,
   "metadata": {},
   "outputs": [],
   "source": [
    "plt.figure(figsize=(12,10))\n",
    "sns.heatmap(X.corr(),annot=True)"
   ]
  },
  {
   "cell_type": "code",
   "execution_count": null,
   "metadata": {},
   "outputs": [],
   "source": [
    "from sklearn.manifold import TSNE\n",
    "import umap\n",
    "\n",
    "gow_tsne = TSNE(n_components=2, perplexity=30, random_state=0).fit_transform(dist_matrix)\n",
    "gow_umap = umap.UMAP(n_neighbors=25, min_dist=0.0, n_components=2,random_state=0).fit_transform(dist_matrix)"
   ]
  },
  {
   "cell_type": "markdown",
   "metadata": {},
   "source": [
    "# FAMD"
   ]
  },
  {
   "cell_type": "code",
   "execution_count": null,
   "metadata": {},
   "outputs": [],
   "source": [
    "import prince\n",
    "\n",
    "famd = prince.FAMD(n_components=2, n_iter=10,\n",
    "                   copy=True, check_input=True,\n",
    "                   engine='auto',random_state=0)\n",
    "\n",
    "famd = famd.fit(updated_data)\n",
    "coords = famd.row_coordinates(updated_data)"
   ]
  },
  {
   "cell_type": "code",
   "execution_count": null,
   "metadata": {},
   "outputs": [],
   "source": [
    "DIAGCOLORS = {'AL amyloidose':'red', 'TTR amyloidose':'green', 'Annet':'blue'}"
   ]
  },
  {
   "cell_type": "code",
   "execution_count": null,
   "metadata": {},
   "outputs": [],
   "source": [
    "num_k = 3#get_num_of_k(coords, 'famd')"
   ]
  },
  {
   "cell_type": "code",
   "execution_count": null,
   "metadata": {},
   "outputs": [],
   "source": [
    "#get_num_of_k(dist_matrix, 'gower')"
   ]
  },
  {
   "cell_type": "code",
   "execution_count": null,
   "metadata": {},
   "outputs": [],
   "source": [
    "from sklearn.neighbors import NearestNeighbors\n",
    "\n",
    "neigh = NearestNeighbors(n_neighbors=2)\n",
    "nbrs = neigh.fit(dist_matrix)\n",
    "\n",
    "distances, indices = nbrs.kneighbors(dist_matrix)\n",
    "distances = np.sort(distances, axis=0)\n",
    "distances = distances[:,1]\n",
    "\n",
    "plt.plot(distances)"
   ]
  },
  {
   "cell_type": "markdown",
   "metadata": {},
   "source": [
    "### The Models"
   ]
  },
  {
   "cell_type": "code",
   "execution_count": null,
   "metadata": {},
   "outputs": [],
   "source": [
    "from sklearn.cluster import KMeans, AgglomerativeClustering, DBSCAN, OPTICS\n",
    "from kmodes.kprototypes import KPrototypes\n",
    "\n",
    "models = [\n",
    "    KMeans(n_clusters=num_k, init=\"k-means++\", n_init=50, max_iter=500, random_state=0),\n",
    "    AgglomerativeClustering(n_clusters=num_k, affinity='precomputed', linkage='complete'),\n",
    "    DBSCAN(eps=0.15, metric='precomputed', min_samples=5),\n",
    "    OPTICS(metric='precomputed', min_samples=2)\n",
    "]"
   ]
  },
  {
   "cell_type": "code",
   "execution_count": null,
   "metadata": {},
   "outputs": [],
   "source": [
    "kproto_data = X.copy()[cats+conts+['PHDIAG']]\n",
    "\n",
    "kproto = KPrototypes(n_clusters=num_k, max_iter=200, n_init=15)\n",
    "kproto_preds = kproto.fit_predict(dist_matrix, categorical=cat_cols)\n",
    "kproto_data['Clusters'] = kproto_preds"
   ]
  },
  {
   "cell_type": "code",
   "execution_count": null,
   "metadata": {},
   "outputs": [],
   "source": [
    "kmeans_data = X.copy()[cats+conts+['PHDIAG']]\n",
    "\n",
    "kmeans_pca = models[0]\n",
    "kmeans_pca.fit(coords)\n",
    "kmeans_preds = kmeans_pca.predict(coords)\n",
    "kmeans_data['Clusters'] = kmeans_preds"
   ]
  },
  {
   "cell_type": "code",
   "execution_count": null,
   "metadata": {},
   "outputs": [],
   "source": [
    "agglo_data = X.copy()[cats+conts+['PHDIAG']]\n",
    "\n",
    "agglo = models[1]\n",
    "agglo_preds = agglo.fit_predict(dist_matrix)\n",
    "agglo_data['Clusters'] = agglo_preds"
   ]
  },
  {
   "cell_type": "code",
   "execution_count": null,
   "metadata": {},
   "outputs": [],
   "source": [
    "dbscan_data = X.copy()[cats+conts+['PHDIAG']]\n",
    "\n",
    "dbsc = models[2]\n",
    "dbsc_preds = dbsc.fit_predict(dist_matrix)\n",
    "dbscan_data['Clusters'] = dbsc_preds"
   ]
  },
  {
   "cell_type": "code",
   "execution_count": null,
   "metadata": {},
   "outputs": [],
   "source": [
    "optics_data = X.copy()[cats+conts+['PHDIAG']]\n",
    "\n",
    "opt = models[-1]\n",
    "opt_preds = opt.fit_predict(dist_matrix)\n",
    "optics_data['Clusters'] = opt_preds"
   ]
  },
  {
   "cell_type": "markdown",
   "metadata": {},
   "source": [
    "### Ground truth"
   ]
  },
  {
   "cell_type": "code",
   "execution_count": null,
   "metadata": {},
   "outputs": [],
   "source": [
    "ax = famd.plot_row_coordinates(\n",
    "    updated_data,\n",
    "    ax=None,\n",
    "    figsize=(9, 9),\n",
    "    x_component=0,\n",
    "    y_component=1,\n",
    "    #labels=coords.index,\n",
    "    color_labels=[f'{t}' for t in data['PHDIAG']],\n",
    "    ellipse_outline=False,\n",
    "    ellipse_fill=True,\n",
    "    show_points=True\n",
    ")\n",
    "plt.savefig('truth')"
   ]
  },
  {
   "cell_type": "code",
   "execution_count": null,
   "metadata": {},
   "outputs": [],
   "source": [
    "ax = famd.plot_row_coordinates(\n",
    "    updated_data,\n",
    "    ax=None,\n",
    "    figsize=(9, 9),\n",
    "    x_component=0,\n",
    "    y_component=1,\n",
    "    #labels=coords.index,\n",
    "    color_labels=[f'{t}' for t in data['PHDIAG'].replace({'TTR amyloidose': 'CA', 'AL amyloidose': 'CA', 'Annet': 'non-CA'})],\n",
    "    ellipse_outline=False,\n",
    "    ellipse_fill=True,\n",
    "    show_points=True\n",
    ")\n",
    "plt.savefig('truth_ca')"
   ]
  },
  {
   "cell_type": "code",
   "execution_count": null,
   "metadata": {},
   "outputs": [],
   "source": [
    "from matplotlib.lines import Line2D\n",
    "legend_elements = [Line2D([0], [0], marker='o', color='w', label='AL',\n",
    "                          markerfacecolor='red', markersize=10),\n",
    "                   Line2D([0], [0], marker='o', color='w', label='Other',\n",
    "                          markerfacecolor='blue', markersize=10),\n",
    "                   Line2D([0], [0], marker='o', color='w', label='ATTR',\n",
    "                          markerfacecolor='green', markersize=10)]\n",
    "\n",
    "legend_elements_ca = [Line2D([0], [0], marker='o', color='w', label='CA',\n",
    "                          markerfacecolor='red', markersize=10),\n",
    "                   Line2D([0], [0], marker='o', color='w', label='non-CA',\n",
    "                          markerfacecolor='blue', markersize=10)]\n",
    "\n",
    "fig = plt.figure(figsize=(12, 9))\n",
    "sc = plt.scatter(gow_tsne[:, 0], gow_tsne[:, 1], c=X['PHDIAG'].map(DIAGCOLORS))\n",
    "plt.xlabel('Component 1')\n",
    "plt.ylabel('Component 2')\n",
    "plt.legend(handles=legend_elements)\n",
    "\n",
    "#plt.savefig('ground_truth_single')\n",
    "plt.show()\n",
    "\n",
    "\n",
    "fig = plt.figure(figsize=(12, 9))\n",
    "sc = plt.scatter(gow_tsne[:, 0], gow_tsne[:, 1], c=X['PHDIAG'].replace({'TTR amyloidose': 'CA', 'AL amyloidose': 'CA', 'Annet': 'non-CA'}).map({'CA': 'red', 'non-CA':'blue'}))\n",
    "plt.xlabel('Component 1')\n",
    "plt.ylabel('Component 2')\n",
    "plt.legend(handles=legend_elements_ca)\n",
    "\n",
    "plt.savefig('gower_gt_plot')\n",
    "plt.show()"
   ]
  },
  {
   "cell_type": "markdown",
   "metadata": {},
   "source": [
    "### Clusterings"
   ]
  },
  {
   "cell_type": "code",
   "execution_count": null,
   "metadata": {},
   "outputs": [],
   "source": [
    "fig = plt.figure(figsize=(12, 9))\n",
    "sc = plt.scatter(gow_tsne[:, 0], gow_tsne[:, 1], c=kproto_preds)\n",
    "plt.xlabel('Component 1')\n",
    "plt.ylabel('Component 2')\n",
    "plt.legend(*sc.legend_elements(), title='clusters')\n",
    "\n",
    "plt.savefig('gower_kproto_plot')\n",
    "plt.show()"
   ]
  },
  {
   "cell_type": "code",
   "execution_count": null,
   "metadata": {},
   "outputs": [],
   "source": [
    "for i in range(num_k):\n",
    "    print(f'Cluster {i}:', kproto_data.groupby(['Clusters']).get_group(i).groupby('PHDIAG').size())"
   ]
  },
  {
   "cell_type": "code",
   "execution_count": null,
   "metadata": {},
   "outputs": [],
   "source": [
    "def summarize_clusters(data, ):\n",
    "    df = [data.groupby(['Clusters']).get_group(i).mean().T for i in range(len(kproto_data.groupby(['Clusters'])))]\n",
    "    return pd.DataFrame(df).T"
   ]
  },
  {
   "cell_type": "code",
   "execution_count": null,
   "metadata": {},
   "outputs": [],
   "source": [
    "summarize_clusters(kproto_data)"
   ]
  },
  {
   "cell_type": "code",
   "execution_count": null,
   "metadata": {},
   "outputs": [],
   "source": [
    "data = pd.DataFrame(kproto_data.groupby(['Clusters', 'PHDIAG']).size()).unstack(fill_value=0)\n",
    "data.plot(kind='bar',figsize=(15, 8), xlabel='Clusters', ylabel='Count')\n",
    "plt.legend(['AL amyloidose', 'Annet', 'TTR amyloidose'])\n",
    "plt.savefig('kproto_clusters')"
   ]
  },
  {
   "cell_type": "code",
   "execution_count": null,
   "metadata": {},
   "outputs": [],
   "source": [
    "data = pd.DataFrame(kproto_data.groupby(['Clusters']).size()).unstack(fill_value=0)\n",
    "data.plot(kind='bar',figsize=(15, 8), xlabel='Clusters', ylabel='Count')\n",
    "#plt.legend(['AL amyloidose', 'Annet', 'TTR amyloidose'])\n",
    "#plt.savefig('kproto')"
   ]
  },
  {
   "cell_type": "code",
   "execution_count": null,
   "metadata": {},
   "outputs": [],
   "source": [
    "plt.figure(figsize=(15, 8))\n",
    "t = sns.boxplot(x=\"Clusters\", y=\"HEBNPRE\", data=kproto_data, boxprops=dict(alpha=.3))\n",
    "t = sns.swarmplot(x=\"Clusters\", y=\"HEBNPRE\", data=kproto_data, color=\".25\")\n",
    "#tfig.savefig(\"hetntre.png\")"
   ]
  },
  {
   "cell_type": "code",
   "execution_count": null,
   "metadata": {},
   "outputs": [],
   "source": [
    "plt.figure(figsize=(12, 9))\n",
    "t = sns.boxplot(x=\"Clusters\", y=\"HETNTRE\", data=kproto_data, boxprops=dict(alpha=.3))\n",
    "t = sns.swarmplot(x=\"Clusters\", y=\"HETNTRE\", data=kproto_data, color=\".25\")\n",
    "#tfig.savefig(\"hetntre.png\")"
   ]
  },
  {
   "cell_type": "code",
   "execution_count": null,
   "metadata": {},
   "outputs": [],
   "source": [
    "plt.figure(figsize=(12, 9))\n",
    "t = sns.boxplot(x=\"Clusters\", y=\"K/L Ratio\", data=kproto_data, boxprops=dict(alpha=.3))\n",
    "t = sns.swarmplot(x=\"Clusters\", y=\"K/L Ratio\", data=kproto_data, color=\".25\")\n",
    "#tfig.savefig(\"hetntre.png\")"
   ]
  },
  {
   "cell_type": "code",
   "execution_count": null,
   "metadata": {},
   "outputs": [],
   "source": [
    "fig = plt.figure(figsize=(12, 9))\n",
    "sc = plt.scatter(coords[ 0], coords[1], c=y.map(DIAGCOLORS))\n",
    "plt.xlabel('Component 1')\n",
    "plt.ylabel('Component 2')\n",
    "plt.legend(*sc.legend_elements(), title='clusters')\n",
    "plt.savefig('gower_kmeans_plot')\n",
    "plt.show()"
   ]
  },
  {
   "cell_type": "code",
   "execution_count": null,
   "metadata": {},
   "outputs": [],
   "source": [
    "fig = plt.figure(figsize=(12, 9))\n",
    "sc = plt.scatter(coords[ 0], coords[1], c=kmeans_preds)\n",
    "plt.xlabel('Component 1')\n",
    "plt.ylabel('Component 2')\n",
    "plt.legend(*sc.legend_elements(), title='clusters')\n",
    "plt.savefig('gower_kmeans_plot')\n",
    "plt.show()"
   ]
  },
  {
   "cell_type": "code",
   "execution_count": null,
   "metadata": {},
   "outputs": [],
   "source": [
    "for i in range(num_k):\n",
    "    print(f'Cluster {i}:', kmeans_data.groupby(['Clusters']).get_group(i).groupby('PHDIAG').size())"
   ]
  },
  {
   "cell_type": "code",
   "execution_count": null,
   "metadata": {},
   "outputs": [],
   "source": [
    "summarize_clusters(kmeans_data)"
   ]
  },
  {
   "cell_type": "code",
   "execution_count": null,
   "metadata": {},
   "outputs": [],
   "source": [
    "data = pd.DataFrame(kmeans_data.groupby(['Clusters', 'PHDIAG']).size()).unstack(fill_value=0)\n",
    "data.plot(kind='bar',figsize=(15, 8), xlabel='Clusters', ylabel='Count')\n",
    "plt.legend(['AL amyloidose', 'Annet', 'TTR amyloidose'])\n",
    "plt.savefig('kmeans_clusters')"
   ]
  },
  {
   "cell_type": "code",
   "execution_count": null,
   "metadata": {},
   "outputs": [],
   "source": [
    "fig = plt.figure(figsize=(12, 9))\n",
    "sc = plt.scatter(gow_tsne[:,0], gow_tsne[:,1], c=agglo_preds)\n",
    "plt.xlabel('Component 1')\n",
    "plt.ylabel('Component 2')\n",
    "plt.legend(*sc.legend_elements(), title='clusters')\n",
    "plt.savefig('gower_agglo_plot')\n",
    "plt.show()"
   ]
  },
  {
   "cell_type": "code",
   "execution_count": null,
   "metadata": {},
   "outputs": [],
   "source": [
    "for i in range(num_k):\n",
    "    print(f'Cluster {i}:', agglo_data.groupby(['Clusters']).get_group(i).groupby('PHDIAG').size())"
   ]
  },
  {
   "cell_type": "code",
   "execution_count": null,
   "metadata": {},
   "outputs": [],
   "source": [
    "data = pd.DataFrame(agglo_data.groupby(['Clusters', 'PHDIAG']).size()).unstack(fill_value=0)\n",
    "data.plot(kind='bar',figsize=(15, 8), xlabel='Clusters', ylabel='Count')\n",
    "plt.legend(['AL amyloidose', 'Annet', 'TTR amyloidose'])\n",
    "plt.savefig('agglo_clusters')"
   ]
  },
  {
   "cell_type": "code",
   "execution_count": null,
   "metadata": {},
   "outputs": [],
   "source": [
    "fig = plt.figure(figsize=(12, 9))\n",
    "sc = plt.scatter(gow_tsne[:,0], gow_tsne[:,1], c=dbsc_preds)\n",
    "plt.xlabel('Component 1')\n",
    "plt.ylabel('Component 2')\n",
    "plt.legend(*sc.legend_elements(), title='clusters')\n",
    "#plt.savefig('ground_truth_single')\n",
    "plt.show()"
   ]
  },
  {
   "cell_type": "code",
   "execution_count": null,
   "metadata": {},
   "outputs": [],
   "source": [
    "fig = plt.figure(figsize=(12, 9))\n",
    "sc = plt.scatter(gow_tsne[:,0], gow_tsne[:,1], c=opt_preds)\n",
    "plt.xlabel('Component 1')\n",
    "plt.ylabel('Component 2')\n",
    "plt.legend(*sc.legend_elements(), title='clusters')\n",
    "#plt.savefig('ground_truth_single')\n",
    "plt.show()"
   ]
  },
  {
   "cell_type": "markdown",
   "metadata": {},
   "source": [
    "# Validation"
   ]
  },
  {
   "cell_type": "code",
   "execution_count": null,
   "metadata": {},
   "outputs": [],
   "source": [
    "def clusters_to_classes(grouping, num_clusters):\n",
    "    mapping = {}\n",
    "    for i in range(num_clusters):\n",
    "        mapping[i] = grouping['PHDIAG'].count()[i].idxmax()\n",
    "    return mapping\n",
    "\n",
    "def clusters_to_binary(grouping, num_clusters):\n",
    "    mapping = {}\n",
    "    for i in range(num_clusters):\n",
    "        filt = mapping[i] = grouping['PHDIAG'].count()[i]\n",
    "        ca = filt[filt.index != 'Annet'].sum()\n",
    "        non = filt[filt.index == 'Annet'].sum()\n",
    "        \n",
    "        mapping[i] = 'non-CA' if ca < non else 'CA'\n",
    "        \n",
    "    return mapping\n",
    "\n",
    "def calc_confusion(data, y, y_ca, num_k):\n",
    "    from sklearn.metrics import silhouette_score, jaccard_score, calinski_harabasz_score, davies_bouldin_score, accuracy_score, precision_score, recall_score, f1_score\n",
    "    c2c = clusters_to_classes(data.groupby(['Clusters', 'PHDIAG']), num_k)\n",
    "    c2c_binary = clusters_to_binary(data.groupby(['Clusters', 'PHDIAG']), num_k)\n",
    "\n",
    "    data['c2c'] = data['Clusters'].map(c2c)\n",
    "    data['c2c_binary'] = data['Clusters'].map(c2c_binary)\n",
    "\n",
    "    acc = accuracy_score(y, data['c2c'])\n",
    "    rec = recall_score(y, data['c2c'], average='weighted')\n",
    "    prec = precision_score(y, data['c2c'], average='weighted')\n",
    "    f1 = f1_score(y, data['c2c'], average='weighted')\n",
    "    \n",
    "    acc_b = accuracy_score(y_ca, data['c2c_binary'])\n",
    "    rec_b = recall_score(y_ca, data['c2c_binary'], average='weighted')\n",
    "    prec_b = precision_score(y_ca, data['c2c_binary'], average='weighted')\n",
    "    f1_b = f1_score(y_ca, data['c2c_binary'], average='weighted')\n",
    "    \n",
    "    return acc, rec, prec, f1, acc_b, rec_b, prec_b, f1_b"
   ]
  },
  {
   "cell_type": "code",
   "execution_count": null,
   "metadata": {},
   "outputs": [],
   "source": [
    "calc_confusion(kproto_data, y, y_ca, num_k)"
   ]
  },
  {
   "cell_type": "code",
   "execution_count": null,
   "metadata": {},
   "outputs": [],
   "source": [
    "calc_confusion(kmeans_data, y, y_ca, num_k)"
   ]
  },
  {
   "cell_type": "code",
   "execution_count": null,
   "metadata": {},
   "outputs": [],
   "source": [
    "calc_confusion(agglo_data, y, y_ca, num_k)"
   ]
  },
  {
   "cell_type": "code",
   "execution_count": null,
   "metadata": {},
   "outputs": [],
   "source": [
    "calc_confusion(dbscan_data, y, y_ca, num_k)"
   ]
  },
  {
   "cell_type": "code",
   "execution_count": null,
   "metadata": {},
   "outputs": [],
   "source": [
    "calc_confusion(optics_data, y, y_ca, num_k)"
   ]
  },
  {
   "cell_type": "code",
   "execution_count": null,
   "metadata": {},
   "outputs": [],
   "source": []
  }
 ],
 "metadata": {
  "kernelspec": {
   "display_name": "Python 3",
   "language": "python",
   "name": "python3"
  },
  "language_info": {
   "codemirror_mode": {
    "name": "ipython",
    "version": 3
   },
   "file_extension": ".py",
   "mimetype": "text/x-python",
   "name": "python",
   "nbconvert_exporter": "python",
   "pygments_lexer": "ipython3",
   "version": "3.7.9"
  }
 },
 "nbformat": 4,
 "nbformat_minor": 4
}
