{
 "cells": [
  {
   "cell_type": "code",
   "execution_count": 1,
   "metadata": {},
   "outputs": [],
   "source": [
    "import os\n",
    "import pandas as pd\n",
    "import numpy as np\n",
    "import seaborn as sns\n",
    "import matplotlib.pyplot as plt\n",
    "from utils import *\n",
    "from pipelines import *\n",
    "import umap\n",
    "import kneed"
   ]
  },
  {
   "cell_type": "code",
   "execution_count": 2,
   "metadata": {},
   "outputs": [],
   "source": [
    "from sklearn.decomposition import PCA\n",
    "from sklearn.manifold import TSNE\n",
    "from sklearn.experimental import enable_iterative_imputer\n",
    "from sklearn.impute import SimpleImputer, IterativeImputer, KNNImputer\n",
    "from sklearn.model_selection import train_test_split\n",
    "from sklearn.model_selection import StratifiedShuffleSplit\n",
    "from sklearn.preprocessing import StandardScaler, PowerTransformer, QuantileTransformer, MaxAbsScaler, RobustScaler\n",
    "from sklearn.pipeline import Pipeline\n",
    "from sklearn import metrics\n",
    "\n",
    "from sklearn.metrics.cluster import homogeneity_score\n",
    "\n",
    "from sklearn.cluster import KMeans"
   ]
  },
  {
   "cell_type": "markdown",
   "metadata": {},
   "source": [
    "### Problem definition\n",
    "Perform PCA on data set to reduce dimensionality, and perform K-Means Clustering to see if the clustering segregates the data into CA diagnosed and non diagnosed."
   ]
  },
  {
   "cell_type": "markdown",
   "metadata": {},
   "source": [
    "# Principal Component Analysis"
   ]
  },
  {
   "cell_type": "code",
   "execution_count": 3,
   "metadata": {},
   "outputs": [],
   "source": [
    "final_df = get_lapp(red_flags+medical_history)\n",
    "final_df = final_df[final_df['PHDIAG'].notna()]"
   ]
  },
  {
   "cell_type": "code",
   "execution_count": 4,
   "metadata": {},
   "outputs": [],
   "source": [
    "final_df['K/L Ratio'] = final_df['HEKAPRE'] / final_df['HELAMRE']\n",
    "final_df = final_df.drop(columns=['HEKAPRE', 'HELAMRE'])"
   ]
  },
  {
   "cell_type": "code",
   "execution_count": 5,
   "metadata": {},
   "outputs": [],
   "source": [
    "# One-hot encode\n",
    "final_df = pd.get_dummies(final_df, columns=ohe_data)"
   ]
  },
  {
   "cell_type": "code",
   "execution_count": null,
   "metadata": {},
   "outputs": [],
   "source": []
  },
  {
   "cell_type": "raw",
   "metadata": {},
   "source": [
    "#final_df = drop_missing_cols(final_df, 60)\n",
    "plot_missing_percentages(final_df)"
   ]
  },
  {
   "cell_type": "code",
   "execution_count": 7,
   "metadata": {},
   "outputs": [
    {
     "name": "stderr",
     "output_type": "stream",
     "text": [
      "/Library/Frameworks/Python.framework/Versions/3.7/lib/python3.7/site-packages/sklearn/preprocessing/_data.py:2370: UserWarning: n_quantiles (1000) is greater than the total number of samples (98). n_quantiles is set to n_samples.\n",
      "  % (self.n_quantiles, n_samples))\n",
      "/Library/Frameworks/Python.framework/Versions/3.7/lib/python3.7/site-packages/ipykernel_launcher.py:4: SettingWithCopyWarning: \n",
      "A value is trying to be set on a copy of a slice from a DataFrame.\n",
      "Try using .loc[row_indexer,col_indexer] = value instead\n",
      "\n",
      "See the caveats in the documentation: https://pandas.pydata.org/pandas-docs/stable/user_guide/indexing.html#returning-a-view-versus-a-copy\n",
      "  after removing the cwd from sys.path.\n",
      "/Library/Frameworks/Python.framework/Versions/3.7/lib/python3.7/site-packages/pandas/core/indexing.py:1736: SettingWithCopyWarning: \n",
      "A value is trying to be set on a copy of a slice from a DataFrame.\n",
      "Try using .loc[row_indexer,col_indexer] = value instead\n",
      "\n",
      "See the caveats in the documentation: https://pandas.pydata.org/pandas-docs/stable/user_guide/indexing.html#returning-a-view-versus-a-copy\n",
      "  isetter(loc, value[:, i].tolist())\n",
      "/Library/Frameworks/Python.framework/Versions/3.7/lib/python3.7/site-packages/sklearn/preprocessing/_data.py:2370: UserWarning: n_quantiles (1000) is greater than the total number of samples (32). n_quantiles is set to n_samples.\n",
      "  % (self.n_quantiles, n_samples))\n",
      "/Library/Frameworks/Python.framework/Versions/3.7/lib/python3.7/site-packages/ipykernel_launcher.py:5: SettingWithCopyWarning: \n",
      "A value is trying to be set on a copy of a slice from a DataFrame.\n",
      "Try using .loc[row_indexer,col_indexer] = value instead\n",
      "\n",
      "See the caveats in the documentation: https://pandas.pydata.org/pandas-docs/stable/user_guide/indexing.html#returning-a-view-versus-a-copy\n",
      "  \"\"\"\n",
      "/Library/Frameworks/Python.framework/Versions/3.7/lib/python3.7/site-packages/pandas/core/indexing.py:1736: SettingWithCopyWarning: \n",
      "A value is trying to be set on a copy of a slice from a DataFrame.\n",
      "Try using .loc[row_indexer,col_indexer] = value instead\n",
      "\n",
      "See the caveats in the documentation: https://pandas.pydata.org/pandas-docs/stable/user_guide/indexing.html#returning-a-view-versus-a-copy\n",
      "  isetter(loc, value[:, i].tolist())\n"
     ]
    }
   ],
   "source": [
    "male, female = get_male_female(final_df)\n",
    "\n",
    "# Standardize\n",
    "male[standardized_data] = QuantileTransformer(output_distribution='uniform', random_state=0).fit_transform(male[standardized_data])\n",
    "female[standardized_data] = QuantileTransformer(output_distribution='uniform', random_state=0).fit_transform(female[standardized_data])"
   ]
  },
  {
   "cell_type": "code",
   "execution_count": 8,
   "metadata": {},
   "outputs": [],
   "source": [
    "#colors = {1:'red', 97:'green', 2:'blue'}\n",
    "colors = {'AL amyloidose':'red', 'TTR amyloidose':'green', 'Annet':'blue'}"
   ]
  },
  {
   "cell_type": "markdown",
   "metadata": {},
   "source": [
    "## PCA+t-SNE -> K-Means on Male data set"
   ]
  },
  {
   "cell_type": "code",
   "execution_count": 9,
   "metadata": {},
   "outputs": [],
   "source": [
    "def pca_pipe(dataset, n_comp):\n",
    "    pca = PCA(n_components=n_comp, random_state=0)#30)\n",
    "    X = dataset\n",
    "    \n",
    "    # Impute NaN value data\n",
    "    # imp = SimpleImputer(missing_values=np.nan, strategy='mean')\n",
    "    imp = IterativeImputer(max_iter=50, initial_strategy='mean', random_state=0)\n",
    "    #imp = KNNImputer(n_neighbors=5, weights=\"distance\")\n",
    "    imp.fit(X)\n",
    "    X_new = imp.transform(X)\n",
    "    \n",
    "    # Project PCA\n",
    "    X_proj = pca.fit_transform(X_new)\n",
    "    \n",
    "    print(pca.n_components_)\n",
    "    \n",
    "    t_sne = TSNE(n_components=2, init='pca', perplexity=50, n_iter=5000, n_iter_without_progress=1000)\n",
    "    X_proj = t_sne.fit_transform(X_proj)\n",
    "    return X_proj\n",
    "\n",
    "def tts(X, y, test_size):\n",
    "    X_train, X_test, y_train, y_test = train_test_split(X, y, stratify=y, test_size=test_size)\n",
    "    return X_train, X_test, y_train, y_test"
   ]
  },
  {
   "cell_type": "code",
   "execution_count": 10,
   "metadata": {},
   "outputs": [
    {
     "name": "stdout",
     "output_type": "stream",
     "text": [
      "18\n"
     ]
    }
   ],
   "source": [
    "male_X = male.drop(columns=['PHDIAG', 'DMSEX_Mann', 'DMSEX_Kvinne', 'PHMH1', 'PHMH3','PHMH4','PHMH5','PHMH10','PHMH11','PHMH12','PHMH13','PHMH14','PHMH15','PHMH16','PHMH17','PHMH18'])\n",
    "male_y = male['PHDIAG']\n",
    "X_proj = pca_pipe(male_X, 0.95)"
   ]
  },
  {
   "cell_type": "code",
   "execution_count": 11,
   "metadata": {},
   "outputs": [
    {
     "data": {
      "image/png": "[encoded data removed]",
      "text/plain": [
       "<Figure size 1296x504 with 2 Axes>"
      ]
     },
     "metadata": {
      "needs_background": "light"
     },
     "output_type": "display_data"
    }
   ],
   "source": [
    "kmeans = KMeans(n_clusters=3, init=\"k-means++\", n_init=50, max_iter=500, random_state=0).fit(X_proj)\n",
    "pred = kmeans.predict(X_proj)\n",
    "centroids = kmeans.cluster_centers_\n",
    "plt.figure(figsize=(18, 7))\n",
    "\n",
    "plt.subplot(1, 2, 1)\n",
    "plt.scatter(X_proj[:,0], X_proj[:,1], c=male_y.map(colors))\n",
    "plt.scatter(centroids[:,0] , centroids[:,1] , s = 80, color = 'orange')\n",
    "plt.xlabel('t-SNE 1')\n",
    "plt.ylabel('t-SNE 2')\n",
    "\n",
    "plt.subplot(1, 2, 2)\n",
    "plt.scatter(X_proj[:,0], X_proj[:,1], c=pred)\n",
    "plt.scatter(centroids[:,0] , centroids[:,1] , s = 80, color = 'orange') \n",
    "plt.xlabel('t-SNE 1')\n",
    "plt.ylabel('t-SNE 2')\n",
    "\n",
    "plt.savefig(os.path.join('/Users/riiser/Documents/thesis/data_mining_prac/pca_tsne', 'result_pca_tsne_kmeans_male'))\n",
    "plt.show()"
   ]
  },
  {
   "cell_type": "markdown",
   "metadata": {},
   "source": [
    "## PCA+t-SNE -> K-Means on Female data set"
   ]
  },
  {
   "cell_type": "code",
   "execution_count": 12,
   "metadata": {},
   "outputs": [
    {
     "name": "stdout",
     "output_type": "stream",
     "text": [
      "14\n"
     ]
    }
   ],
   "source": [
    "female_X = female.drop(columns=['PHDIAG', 'DMSEX_Mann', 'DMSEX_Kvinne', 'PHMH1', 'PHMH3','PHMH4','PHMH5','PHMH10','PHMH11','PHMH12','PHMH13','PHMH14','PHMH15','PHMH16','PHMH17','PHMH18'])\n",
    "female_y = female['PHDIAG']\n",
    "X_proj = pca_pipe(female_X, 0.95)"
   ]
  },
  {
   "cell_type": "code",
   "execution_count": 13,
   "metadata": {},
   "outputs": [
    {
     "data": {
      "image/png": "[encoded data removed]",
      "text/plain": [
       "<Figure size 1296x504 with 2 Axes>"
      ]
     },
     "metadata": {
      "needs_background": "light"
     },
     "output_type": "display_data"
    }
   ],
   "source": [
    "kmeans = KMeans(n_clusters=3, init=\"k-means++\", n_init=50, max_iter=500, random_state=0).fit(X_proj)\n",
    "pred = kmeans.predict(X_proj)\n",
    "centroids = kmeans.cluster_centers_\n",
    "plt.figure(figsize=(18, 7))\n",
    "\n",
    "plt.subplot(1, 2, 1)\n",
    "plt.scatter(X_proj[:,0], X_proj[:,1], c=female_y.map(colors))\n",
    "plt.scatter(centroids[:,0] , centroids[:,1] , s = 80, color = 'orange')\n",
    "plt.xlabel('t-SNE 1')\n",
    "plt.ylabel('t-SNE 2')\n",
    "\n",
    "plt.subplot(1, 2, 2)\n",
    "plt.scatter(X_proj[:,0], X_proj[:,1], c=pred)\n",
    "plt.scatter(centroids[:,0] , centroids[:,1] , s = 80, color = 'orange') \n",
    "plt.xlabel('t-SNE 1')\n",
    "plt.ylabel('t-SNE 2')\n",
    "\n",
    "plt.savefig(os.path.join('/Users/riiser/Documents/thesis/data_mining_prac/pca_tsne', 'result_pca_tsne_kmeans_female'))\n",
    "plt.show()"
   ]
  },
  {
   "cell_type": "markdown",
   "metadata": {},
   "source": [
    "# PCA+t-SNE -> K-Means on both gender"
   ]
  },
  {
   "cell_type": "code",
   "execution_count": 14,
   "metadata": {},
   "outputs": [
    {
     "name": "stderr",
     "output_type": "stream",
     "text": [
      "/Library/Frameworks/Python.framework/Versions/3.7/lib/python3.7/site-packages/sklearn/preprocessing/_data.py:2370: UserWarning: n_quantiles (1000) is greater than the total number of samples (130). n_quantiles is set to n_samples.\n",
      "  % (self.n_quantiles, n_samples))\n"
     ]
    },
    {
     "name": "stdout",
     "output_type": "stream",
     "text": [
      "16\n"
     ]
    }
   ],
   "source": [
    "# Standardize\n",
    "final_df[standardized_data] = QuantileTransformer(output_distribution='uniform', random_state=0).fit_transform(final_df[standardized_data])\n",
    "\n",
    "X = final_df.drop(columns=['PHDIAG', 'PHMH1', 'PHMH3','PHMH4','PHMH5','PHMH10','PHMH11','PHMH12','PHMH13','PHMH14','PHMH15','PHMH16','PHMH17','PHMH18'])\n",
    "y = final_df['PHDIAG']\n",
    "X_pca = pca_pipe(X, 0.9)\n",
    "\n",
    "#X_train, X_test, y_train, y_test = tts(X, y, 0.3)\n",
    "#Xt_proj = pca_pipe(X_train)\n",
    "#Xtest_proj = pca_pipe(X_test)"
   ]
  },
  {
   "cell_type": "markdown",
   "metadata": {},
   "source": [
    "### How to determine K value?\n",
    "By using Elbow method, which is a heuristic used in determining the number of clusters in a data set."
   ]
  },
  {
   "cell_type": "code",
   "execution_count": 18,
   "metadata": {},
   "outputs": [
    {
     "name": "stdout",
     "output_type": "stream",
     "text": [
      "5\n"
     ]
    }
   ],
   "source": [
    "inertia_list = {}\n",
    "for num_clusters in np.arange(1, 21):\n",
    "    km = KMeans(n_clusters=num_clusters)\n",
    "    km.fit(X_pca)\n",
    "    inertia_list[num_clusters] = km.inertia_\n",
    "    \n",
    "kn = kneed.KneeLocator(x=list(inertia_list.keys()), \n",
    "     y=list(inertia_list.values()), \n",
    "     curve='convex', \n",
    "     direction='decreasing'\n",
    ")\n",
    "print(kn.knee)"
   ]
  },
  {
   "cell_type": "code",
   "execution_count": 19,
   "metadata": {},
   "outputs": [
    {
     "data": {
      "image/png": "[encoded data removed]",
      "text/plain": [
       "<Figure size 720x360 with 1 Axes>"
      ]
     },
     "metadata": {
      "needs_background": "light"
     },
     "output_type": "display_data"
    }
   ],
   "source": [
    "#Plotting the Elbow Curve\n",
    "plt.figure(figsize=(10, 5))\n",
    "plt.plot(inertia_list.keys(), inertia_list.values())\n",
    "plt.grid(True)\n",
    "plt.xlabel('Number of K')\n",
    "plt.ylabel('Inertia')\n",
    "plt.title('Elbow Curve')\n",
    "plt.show()"
   ]
  },
  {
   "cell_type": "markdown",
   "metadata": {},
   "source": [
    "From above, we select the optimum value of k by determining the Elbow Point - a point after which the inertia starts decreasing linearly. In this case, we can select the value of k as 5."
   ]
  },
  {
   "cell_type": "markdown",
   "metadata": {},
   "source": [
    "### Main"
   ]
  },
  {
   "cell_type": "code",
   "execution_count": null,
   "metadata": {},
   "outputs": [],
   "source": [
    "kmeans = KMeans(n_clusters=3, init=\"k-means++\", n_init=50, max_iter=500, random_state=0).fit(X_pca)\n",
    "main_pred = kmeans.predict(X_pca)"
   ]
  },
  {
   "cell_type": "code",
   "execution_count": null,
   "metadata": {},
   "outputs": [],
   "source": [
    "plt.figure(figsize=(18, 7))\n",
    "\n",
    "plt.subplot(1, 2, 1)\n",
    "plt.scatter(X_pca[:,0], X_pca[:,1], c=y.map(colors))\n",
    "centroids = kmeans.cluster_centers_\n",
    "plt.scatter(centroids[:,0] , centroids[:,1] , s = 80, color = 'orange')\n",
    "plt.xlabel('t-SNE 1')\n",
    "plt.ylabel('t-SNE 2')\n",
    "\n",
    "plt.subplot(1, 2, 2)\n",
    "plt.scatter(X_pca[:,0], X_pca[:,1], c=main_pred)\n",
    "centroids = kmeans.cluster_centers_\n",
    "plt.scatter(centroids[:,0] , centroids[:,1] , s = 80, color = 'orange') \n",
    "plt.xlabel('t-SNE 1')\n",
    "plt.ylabel('t-SNE 2')\n",
    "\n",
    "plt.savefig(os.path.join('/Users/riiser/Documents/thesis/data_mining_prac/pca_tsne', 'result_pca_tsne_kmeans'))\n",
    "plt.show()"
   ]
  },
  {
   "cell_type": "code",
   "execution_count": null,
   "metadata": {},
   "outputs": [],
   "source": [
    "print(metrics.silhouette_score(X_pca, main_pred, metric='euclidean'))\n",
    "print(compute_jaccard(y.replace({'TTR amyloidose':1, 'AL amyloidose':1, 'Annet': 0}), main_pred))\n",
    "cont = metrics.cluster.contingency_matrix(y.replace({'TTR amyloidose':1, 'AL amyloidose':1, 'Annet': 0}), main_pred)\n",
    "print(np.sum(np.amax(cont, axis=0)) / np.sum(cont))"
   ]
  },
  {
   "cell_type": "markdown",
   "metadata": {},
   "source": [
    "# Hierarchical Clustering\n",
    "https://www.analyticsvidhya.com/blog/2019/05/beginners-guide-hierarchical-clustering/"
   ]
  },
  {
   "cell_type": "code",
   "execution_count": null,
   "metadata": {},
   "outputs": [],
   "source": [
    "from sklearn.preprocessing import normalize\n",
    "import scipy.cluster.hierarchy as shc\n",
    "from sklearn.cluster import AgglomerativeClustering"
   ]
  },
  {
   "cell_type": "code",
   "execution_count": null,
   "metadata": {},
   "outputs": [],
   "source": [
    "X = final_df.drop(columns=['PHDIAG', 'PHMH1', 'PHMH3','PHMH4','PHMH5','PHMH10','PHMH11','PHMH12','PHMH13','PHMH14','PHMH15','PHMH16','PHMH17','PHMH18'])\n",
    "y = final_df['PHDIAG']\n",
    "X_train, X_test, y_train, y_test = tts(X, y, 0.3)\n",
    "\n",
    "X_proj = pca_pipe(X, 0.95) \n",
    "#Xt_proj = pca_pipe(X_train)\n",
    "#Xtest_proj = pca_pipe(X_test)"
   ]
  },
  {
   "cell_type": "code",
   "execution_count": null,
   "metadata": {},
   "outputs": [],
   "source": [
    "plt.figure(figsize=(10, 7))  \n",
    "plt.title(\"Dendrograms\")  \n",
    "dend = shc.dendrogram(shc.linkage(X_proj, method='ward'))"
   ]
  },
  {
   "cell_type": "code",
   "execution_count": null,
   "metadata": {},
   "outputs": [],
   "source": [
    "plt.figure(figsize=(10, 7))  \n",
    "plt.scatter(X_proj[:,0], X_proj[:,1], c=y.map(colors)) "
   ]
  },
  {
   "cell_type": "markdown",
   "metadata": {},
   "source": [
    "# Agglomerative Hierarchical Clustering"
   ]
  },
  {
   "cell_type": "code",
   "execution_count": null,
   "metadata": {},
   "outputs": [],
   "source": [
    "cluster = AgglomerativeClustering(n_clusters=3, affinity='euclidean', linkage='ward')  \n",
    "preds = cluster.fit_predict(X_pca)\n",
    "\n",
    "plt.figure(figsize=(18, 7))\n",
    "\n",
    "plt.subplot(1, 2, 1)\n",
    "plt.scatter(X_pca[:,0], X_pca[:,1], c=y.map(colors))\n",
    "plt.xlabel('t-SNE 1')\n",
    "plt.ylabel('t-SNE 2')\n",
    "\n",
    "plt.subplot(1, 2, 2)\n",
    "plt.scatter(X_pca[:,0], X_pca[:,1], c=preds)\n",
    "plt.xlabel('t-SNE 1')\n",
    "plt.ylabel('t-SNE 2')\n",
    "\n",
    "plt.savefig(os.path.join('/Users/riiser/Documents/thesis/data_mining_prac/pca_tsne', 'result_pca_tsne_agglo'))\n",
    "plt.show()"
   ]
  },
  {
   "cell_type": "code",
   "execution_count": null,
   "metadata": {},
   "outputs": [],
   "source": [
    "print(metrics.silhouette_score(X_pca, preds, metric='euclidean'))\n",
    "print(compute_jaccard(y, preds))"
   ]
  },
  {
   "cell_type": "raw",
   "metadata": {},
   "source": [
    "cluster = AgglomerativeClustering(n_clusters=2, affinity='euclidean', linkage='ward')\n",
    "preds_val = cluster.fit_predict(Xtest_proj)\n",
    "\n",
    "plt.figure(figsize=(10, 7))\n",
    "plt.scatter(Xtest_proj[:,0], Xtest_proj[:,1], c=preds_val)"
   ]
  },
  {
   "cell_type": "raw",
   "metadata": {},
   "source": [
    "plt.figure(figsize=(10, 7))\n",
    "plt.scatter(Xtest_proj[:,0], Xtest_proj[:,1], c=y_test)"
   ]
  },
  {
   "cell_type": "raw",
   "metadata": {},
   "source": [
    "print(metrics.silhouette_score(Xtest_proj, preds_val, metric='euclidean'))\n",
    "print(compute_jaccard(y_test, preds_val))"
   ]
  },
  {
   "cell_type": "code",
   "execution_count": null,
   "metadata": {},
   "outputs": [],
   "source": [
    "main_pred"
   ]
  }
 ],
 "metadata": {
  "kernelspec": {
   "display_name": "Python 3",
   "language": "python",
   "name": "python3"
  },
  "language_info": {
   "codemirror_mode": {
    "name": "ipython",
    "version": 3
   },
   "file_extension": ".py",
   "mimetype": "text/x-python",
   "name": "python",
   "nbconvert_exporter": "python",
   "pygments_lexer": "ipython3",
   "version": "3.7.9"
  }
 },
 "nbformat": 4,
 "nbformat_minor": 4
}
