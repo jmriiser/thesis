{
 "cells": [
  {
   "cell_type": "code",
   "execution_count": 1,
   "metadata": {},
   "outputs": [],
   "source": [
    "import warnings\n",
    "warnings.filterwarnings('ignore')"
   ]
  },
  {
   "cell_type": "code",
   "execution_count": null,
   "metadata": {},
   "outputs": [],
   "source": [
    "import pandas as pd\n",
    "import numpy as np\n",
    "import seaborn as sns\n",
    "import matplotlib.pyplot as plt\n",
    "from utils import *"
   ]
  },
  {
   "cell_type": "code",
   "execution_count": null,
   "metadata": {},
   "outputs": [],
   "source": [
    "pd.set_option('display.max_columns', None)"
   ]
  },
  {
   "cell_type": "markdown",
   "metadata": {},
   "source": [
    "# Data Mining for Early Detection of Cardiac Amyloidosis"
   ]
  },
  {
   "cell_type": "markdown",
   "metadata": {},
   "source": [
    "### Data cleaning and preprocessing\n",
    "In this section, we want to get an initial understanding of the data in its raw format. I will perform quality checking based on intuition/domain knowledge, and remove redundant and missing data to prepare it for an initial exploratory data analysis."
   ]
  },
  {
   "cell_type": "markdown",
   "metadata": {},
   "source": [
    "In the cell below we simply define a list of metrics we've learned to be red flags/indicators for Cardiac Amyloidosis. For the metrics starting with \"PHMH\", I have decided to include only the value without the code (PHMHxCD) since it doesn't create more value than the standard (PHMHx)."
   ]
  },
  {
   "cell_type": "code",
   "execution_count": null,
   "metadata": {},
   "outputs": [],
   "source": [
    "red_flags = [\n",
    "    'SubjectSeq', 'DMAGE', 'DMSEX', 'PHRVSPYNCD','EKGVOLT','ECHLVIDD','ECHLVIDS','ECHIVSD','ECHLVPW',\n",
    "    'ECHLADIA','ECHLAAR','ECHLAVOL','ECHEJFR','ECHEA','ECHESEPT','ECHELAT','ECHEAVG',\n",
    "    'HEKRRE','HEGFRRE','HEBNPRE','HETNTRE','HEKAPRE','HELAMRE', 'DUOTHBIYN',\n",
    "    'ECHLVEDV', 'ECHLVESV', 'HEBNPUN', 'HELAMUN', 'HETNTUN', 'HEKAPUN', 'PHDIAGCD',\n",
    "    'PHFAMYNCD'\n",
    "]\n",
    "\n",
    "medical_history = [f'PHMH{i}' for i in range(1,19)]\n"
   ]
  },
  {
   "cell_type": "code",
   "execution_count": null,
   "metadata": {},
   "outputs": [],
   "source": [
    "#raw_data = raw_data.loc[:, ~raw_data.columns.str.endswith('CD')]\n",
    "#raw_data.columns = raw_data.columns.str.replace('1\\.*', '')\n",
    "raw_data = pd.read_excel('raw_data.xlsx', sheet_name='Data', skiprows=1) # Skip first row\n",
    "raw_data.columns = [col.replace('1.', '') for col in raw_data.columns] # Remove 1. from col names"
   ]
  },
  {
   "cell_type": "markdown",
   "metadata": {},
   "source": [
    "### Handle missing data\n",
    "For Medical history data 1 to 18, we can simply replace all NaN values with 0 or False, and data that exists to either 1 or True. This is still needs confirmation."
   ]
  },
  {
   "cell_type": "code",
   "execution_count": null,
   "metadata": {},
   "outputs": [],
   "source": [
    "raw_data[medical_history] = (raw_data[medical_history].notnull()).astype('int')"
   ]
  },
  {
   "cell_type": "code",
   "execution_count": null,
   "metadata": {},
   "outputs": [],
   "source": [
    "print(len(raw_data.columns.values))\n",
    "print(len(custom_summary(raw_data[red_flags]).percent_missing.values))"
   ]
  },
  {
   "cell_type": "code",
   "execution_count": null,
   "metadata": {},
   "outputs": [],
   "source": [
    "plt.figure(figsize=(4, 4), dpi=160)\n",
    "plt.barh(raw_data[red_flags+medical_history].columns.values, custom_summary(raw_data[red_flags+medical_history]).percent_missing.values)\n",
    "#plt.xticks(rotation='vertical')\n",
    "plt.title(\"Features\", fontsize=12)\n",
    "plt.xlabel(\"Percent missing\")"
   ]
  },
  {
   "cell_type": "code",
   "execution_count": null,
   "metadata": {},
   "outputs": [],
   "source": [
    "rf_data = raw_data.drop(columns=[col for col in raw_data if col not in red_flags+medical_history])"
   ]
  },
  {
   "cell_type": "code",
   "execution_count": null,
   "metadata": {},
   "outputs": [],
   "source": [
    "rf_data.columns"
   ]
  },
  {
   "cell_type": "code",
   "execution_count": null,
   "metadata": {},
   "outputs": [],
   "source": [
    "'''\n",
    "The data set includes several columns with no values at all. \n",
    "We simply drop all columns with less than 5 \"proper\" values since this in a DM process only would cause bias.\n",
    "'''\n",
    "#df_drop_nan_threshold = raw_data.dropna(thresh=5, axis=1)"
   ]
  },
  {
   "cell_type": "code",
   "execution_count": null,
   "metadata": {},
   "outputs": [],
   "source": [
    "rf_data.describe()"
   ]
  },
  {
   "cell_type": "code",
   "execution_count": null,
   "metadata": {},
   "outputs": [],
   "source": [
    "custom_summary(rf_data)"
   ]
  },
  {
   "cell_type": "markdown",
   "metadata": {},
   "source": [
    "### Grouping data based on Patient Id/ SubjectSeq\n",
    "rf_first groups data by SubjectSeq, but keeps the first occuring value for each column/feature\n",
    "\n",
    "rf_last groups data by SubjectSeq, but keeps the last occuring value for each column/feature. The intention here is to have a Pandas Dataframe containing a row for each patient, which also includes all available and latest data for each of them."
   ]
  },
  {
   "cell_type": "code",
   "execution_count": null,
   "metadata": {},
   "outputs": [],
   "source": [
    "rf_first = rf_data.groupby('SubjectSeq').first()"
   ]
  },
  {
   "cell_type": "code",
   "execution_count": null,
   "metadata": {},
   "outputs": [],
   "source": [
    "rf_last = rf_data.groupby('SubjectSeq').last()\n",
    "#rf_last = rf_data.groupby('SubjectSeq').fillna(method='ffill')\n",
    "#rf_last = rf_data.groupby('SubjectSeq').apply(get_last_valid)"
   ]
  },
  {
   "cell_type": "markdown",
   "metadata": {},
   "source": [
    "For the medical history metrics we see high percentages of missing data (see below). We can also tell that those metrics only includes one unique value, which I believe to mean that the patient either has the diagnosis of the specific disease (i.e. KOLS) or is not diagnosed (i.e. NaN-value). Therefore, I simply replace NaN-values with 'neg'."
   ]
  },
  {
   "cell_type": "code",
   "execution_count": null,
   "metadata": {},
   "outputs": [],
   "source": [
    "custom_summary(rf_last)"
   ]
  },
  {
   "cell_type": "code",
   "execution_count": null,
   "metadata": {},
   "outputs": [],
   "source": [
    "#rf_last[['PHMH2', 'PHMH6', 'PHMH7','PHMH8', 'PHMH9', 'PHMH10']] = rf_last[['PHMH2', 'PHMH6', 'PHMH7','PHMH8', 'PHMH9', 'PHMH10']].fillna(value='neg')"
   ]
  },
  {
   "cell_type": "markdown",
   "metadata": {},
   "source": [
    "For now, I simply want to remove all patients with too many missing metrics. In this case, I set the value to 10."
   ]
  },
  {
   "cell_type": "markdown",
   "metadata": {},
   "source": [
    "## Final data set\n",
    "One row for each patient (149 in total), with 31 columns for each patient."
   ]
  },
  {
   "cell_type": "code",
   "execution_count": null,
   "metadata": {},
   "outputs": [],
   "source": [
    "#harsh_drop = rf_last[rf_last.notnull().sum(axis=1) > 10]\n",
    "final_df = get_lapp(red_flags+medical_history)"
   ]
  },
  {
   "cell_type": "code",
   "execution_count": null,
   "metadata": {},
   "outputs": [],
   "source": [
    "plot_missing_percentages(final_df)"
   ]
  },
  {
   "cell_type": "code",
   "execution_count": null,
   "metadata": {},
   "outputs": [],
   "source": [
    "male, female = get_male_female(final_df)"
   ]
  },
  {
   "cell_type": "markdown",
   "metadata": {},
   "source": [
    "# Diagnostic Strategies for Diagnosis of CA\n",
    "\n",
    "### Use of Biomarkers\n",
    "The combination of low voltage at electrocardiography (EKGVOLT) ( <=1 mV in all precordial leads or <=0.5 in all limb leads) and increased LV wall thickness (ECHLVIDD, ECHLVIDS ECHLVPW, ECHLVEDV, ECHLVESV) is a hallmark of CA. The normal range for LVIDd is 3.5-5.6 cm, and the normal range for LVIDs is 2.0-4.0 cm.  The normal range for LVWPd is 0.6-1.1 cm. Source for normal values https://freelandsystems.com/echo-parameters-ventricular-dimensions/.\n",
    "\n",
    "NT-pro BNP (HEBNPYN, HEBNPRE is the value, HEBNPUN is the measurement) with value >1800 pg/mL \"same as ng/L\", high sensitivity cardiac troponin T, with value >0.025 ng/mL, and FLC difference of >18 mg/dL between kappa (HEKAPRE value, HEKAPUN measurement) and lambda (HELAMYN, HELAMRE value, HELAMUN measurement) FLC levels, is shown to be useful for predicting poor prognosis AL patients.\n",
    "\n",
    "NT-proBNP with value >3000 ng/L and high sensitivity cardiac troponin T (HETNTYN, HETNTRE is value, HETNTUN is the measurement) with value >0.0 ng/mL can indicate poor prognosis for ATTRwt.\n",
    "\n",
    "In the following Exploratory data analysis, I compare the provided data set with the common metrics for indicating CA (stated above). One assumption I have is that I separate between genders due heart metrics differ highly between genders. For example, men typically has larger LV wall thickness than women, therefore it would be wrong to compare the two."
   ]
  },
  {
   "cell_type": "code",
   "execution_count": null,
   "metadata": {},
   "outputs": [],
   "source": [
    "poor_prognosis_AL = ['DMAGE', 'HEBNPRE', 'HEBNPUN', 'HETNTRE', 'HETNTUN', 'HEKAPRE', 'HEKAPUN', 'HELAMRE', 'HELAMUN', 'PHDIAGCD']\n",
    "poor_prognosis_ATTRwt = ['DMAGE', 'HEBNPRE', 'HEBNPUN', 'HETNTRE', 'HETNTUN', 'PHDIAGCD']\n",
    "CA_hallmark = ['DMAGE', 'EKGVOLT', 'ECHLVIDD', 'ECHLVIDS', 'ECHLVPW', 'ECHLVEDV', 'ECHLVESV', 'PHDIAGCD']"
   ]
  },
  {
   "cell_type": "markdown",
   "metadata": {},
   "source": [
    "## Hallmark CA Patients"
   ]
  },
  {
   "cell_type": "code",
   "execution_count": null,
   "metadata": {},
   "outputs": [],
   "source": [
    "print(female[CA_hallmark].groupby('PHDIAGCD').describe())\n",
    "female[CA_hallmark]"
   ]
  },
  {
   "cell_type": "code",
   "execution_count": null,
   "metadata": {},
   "outputs": [],
   "source": [
    "pp = sns.pairplot(female[CA_hallmark], size=1.8, aspect=1.8,\n",
    "                  plot_kws=dict(edgecolor=\"k\", linewidth=0.5),\n",
    "                  diag_kind=\"kde\", diag_kws=dict(shade=True), hue=\"PHDIAGCD\")\n",
    "fig = pp.fig \n",
    "fig.subplots_adjust(top=0.93, wspace=0.3)\n",
    "t = fig.suptitle('Female Hallmark Pairwise Plots', fontsize=14)"
   ]
  },
  {
   "cell_type": "code",
   "execution_count": null,
   "metadata": {},
   "outputs": [],
   "source": [
    "print(male[CA_hallmark].groupby('PHDIAGCD').describe())\n",
    "male[CA_hallmark]"
   ]
  },
  {
   "cell_type": "code",
   "execution_count": null,
   "metadata": {},
   "outputs": [],
   "source": [
    "pp = sns.pairplot(male[CA_hallmark], size=1.8, aspect=1.8,\n",
    "                  plot_kws=dict(edgecolor=\"k\", linewidth=0.5),\n",
    "                  diag_kind=\"kde\", diag_kws=dict(shade=True), hue=\"PHDIAGCD\")\n",
    "fig = pp.fig \n",
    "fig.subplots_adjust(top=0.93, wspace=0.3)\n",
    "t = fig.suptitle('Male Hallmark Pairwise Plots', fontsize=14)"
   ]
  },
  {
   "cell_type": "markdown",
   "metadata": {},
   "source": [
    "### Evaluation Hallmark biomarkers\n",
    "Female plots doesn't seem to show distinct patterns (maybe that other/non CA-patients values tend to be more spread out).\n",
    "\n",
    "However, male plots"
   ]
  },
  {
   "cell_type": "markdown",
   "metadata": {},
   "source": [
    "## Poor Prognosis AL patients"
   ]
  },
  {
   "cell_type": "code",
   "execution_count": null,
   "metadata": {},
   "outputs": [],
   "source": [
    "print(female[poor_prognosis_AL].groupby('PHDIAGCD').describe())\n",
    "female[poor_prognosis_AL]"
   ]
  },
  {
   "cell_type": "code",
   "execution_count": null,
   "metadata": {},
   "outputs": [],
   "source": [
    "pp = sns.pairplot(female[poor_prognosis_AL], size=1.8, aspect=1.8,\n",
    "                  plot_kws=dict(edgecolor=\"k\", linewidth=0.5),\n",
    "                  diag_kind=\"kde\", diag_kws=dict(shade=True), hue=\"PHDIAGCD\")\n",
    "fig = pp.fig \n",
    "fig.subplots_adjust(top=0.93, wspace=0.3)\n",
    "t = fig.suptitle('Female AL Pairwise Plots', fontsize=14)"
   ]
  },
  {
   "cell_type": "code",
   "execution_count": null,
   "metadata": {},
   "outputs": [],
   "source": [
    "print(male[poor_prognosis_AL].groupby('PHDIAGCD').describe())\n",
    "male[poor_prognosis_AL]"
   ]
  },
  {
   "cell_type": "code",
   "execution_count": null,
   "metadata": {},
   "outputs": [],
   "source": [
    "pp = sns.pairplot(male[poor_prognosis_AL], size=1.8, aspect=1.8,\n",
    "                  plot_kws=dict(edgecolor=\"k\", linewidth=0.5),\n",
    "                  diag_kind=\"kde\", diag_kws=dict(shade=True), hue=\"PHDIAGCD\")\n",
    "fig = pp.fig \n",
    "fig.subplots_adjust(top=0.93, wspace=0.3)\n",
    "t = fig.suptitle('Male AL Pairwise Plots', fontsize=14)"
   ]
  },
  {
   "cell_type": "markdown",
   "metadata": {},
   "source": [
    "## Poor Prognosis ATTRwt Patients"
   ]
  },
  {
   "cell_type": "code",
   "execution_count": null,
   "metadata": {},
   "outputs": [],
   "source": [
    "print(female[poor_prognosis_ATTRwt].groupby('PHDIAGCD').describe())\n",
    "female[poor_prognosis_ATTRwt]"
   ]
  },
  {
   "cell_type": "code",
   "execution_count": null,
   "metadata": {},
   "outputs": [],
   "source": [
    "pp = sns.pairplot(female[poor_prognosis_ATTRwt], size=1.8, aspect=1.8,\n",
    "                  plot_kws=dict(edgecolor=\"k\", linewidth=0.5),\n",
    "                  diag_kind=\"kde\", diag_kws=dict(shade=True), hue=\"PHDIAGCD\")\n",
    "fig = pp.fig \n",
    "fig.subplots_adjust(top=0.93, wspace=0.3)\n",
    "t = fig.suptitle('Female ATTRwt Pairwise Plots', fontsize=14)"
   ]
  },
  {
   "cell_type": "code",
   "execution_count": null,
   "metadata": {},
   "outputs": [],
   "source": [
    "print(male[poor_prognosis_ATTRwt].groupby('PHDIAGCD').describe())\n",
    "male[poor_prognosis_ATTRwt]"
   ]
  },
  {
   "cell_type": "code",
   "execution_count": null,
   "metadata": {},
   "outputs": [],
   "source": [
    "pp = sns.pairplot(male[poor_prognosis_ATTRwt], size=1.8, aspect=1.8,\n",
    "                  plot_kws=dict(edgecolor=\"k\", linewidth=0.5),\n",
    "                  diag_kind=\"kde\", diag_kws=dict(shade=True), hue=\"PHDIAGCD\")\n",
    "fig = pp.fig \n",
    "fig.subplots_adjust(top=0.93, wspace=0.3)\n",
    "t = fig.suptitle('Male ATTRwt Pairwise Plots', fontsize=14)"
   ]
  },
  {
   "cell_type": "code",
   "execution_count": null,
   "metadata": {},
   "outputs": [],
   "source": []
  }
 ],
 "metadata": {
  "kernelspec": {
   "display_name": "Python 3",
   "language": "python",
   "name": "python3"
  },
  "language_info": {
   "codemirror_mode": {
    "name": "ipython",
    "version": 3
   },
   "file_extension": ".py",
   "mimetype": "text/x-python",
   "name": "python",
   "nbconvert_exporter": "python",
   "pygments_lexer": "ipython3",
   "version": "3.7.9"
  }
 },
 "nbformat": 4,
 "nbformat_minor": 4
}
